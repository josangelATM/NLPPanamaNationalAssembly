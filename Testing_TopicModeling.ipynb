{
 "cells": [
  {
   "cell_type": "code",
   "execution_count": 6,
   "metadata": {},
   "outputs": [],
   "source": [
    "import pdfplumber\n",
    "import re #Need to run for first time use. "
   ]
  },
  {
   "cell_type": "code",
   "execution_count": 10,
   "metadata": {},
   "outputs": [],
   "source": [
    "pdf_path=\"pdfSentenceExtractor-master//pdf_Enero//\"\n",
    "txt_path=\"pdfSentenceExtractor-master//pdf_txts//\"\n",
    "pdfs=[]\n",
    "for pdf in os.listdir(pdf_path):\n",
    "    pdfs.append(pdf)\n"
   ]
  },
  {
   "cell_type": "code",
   "execution_count": 4,
   "metadata": {},
   "outputs": [
    {
     "output_type": "execute_result",
     "data": {
      "text/plain": "['2020_01_02_A_PLENO.pdf',\n '2020_01_06_A_PLENO.pdf',\n '2020_01_07_A_PLENO.pdf',\n '2020_01_08_A_PLENO.pdf',\n '2020_01_13_V_PLENO.pdf',\n '2020_01_14_V_PLENO.pdf',\n '2020_01_15_A_PLENO.pdf',\n '2020_01_15_V_PLENO.pdf',\n '2020_01_16_A_PLENO.pdf',\n '2020_01_20_V_PLENO.pdf']"
     },
     "metadata": {},
     "execution_count": 4
    }
   ],
   "source": [
    "pdfs"
   ]
  },
  {
   "cell_type": "code",
   "execution_count": 7,
   "metadata": {},
   "outputs": [
    {
     "output_type": "stream",
     "name": "stdout",
     "text": "2020_01_14_V_PLENO.pdf no mayor a 3 páginas.\n2020_01_15_V_PLENO.pdf no mayor a 3 páginas.\n"
    }
   ],
   "source": [
    "for pdf_name in pdfs:\n",
    "    fullText=\"\"\n",
    "    pdf_reader=pdfplumber.open(\"pdfSentenceExtractor-master//pdf_Enero//\"+pdf_name)\n",
    "    if len(pdf_reader.pages) > 3:\n",
    "        txt_File = open(\"pdfSentenceExtractor-master//pdf_txts//\"+os.path.splitext(pdf_name)[0]+\".txt\",\"w+\") \n",
    "        for page in pdf_reader.pages:\n",
    "            page=page.crop((1,50,612,715)) #Delete the footer and page numbers. \n",
    "            fullText=fullText+page.extract_text()\n",
    "            \n",
    "        final_sentences=re.findall(r'\\—[A-Z\\sÑ\\.\\,ÁÉÍÓÚ]*([A-Z\\sÑ\\.\\,ÁÉÍÓÚ][a-zA-Z\\s\\.\\…áéíóúÁÉÍÓÚ\\,\\¿\\?ñÑ0-9\\'\\\"\\“\\”\\:\\;\\-]*)',fullText)  \n",
    "        for sentence in final_sentences:\n",
    "            txt_File.write(sentence)\n",
    "        txt_File.close()\n",
    "    else:\n",
    "        print(pdf_name+\" no mayor a 3 páginas.\")\n"
   ]
  },
  {
   "cell_type": "code",
   "execution_count": 23,
   "metadata": {},
   "outputs": [],
   "source": [
    "docs=[]\n",
    "txtNames=[]\n",
    "for txtName in os.listdir(txt_path):\n",
    "    txtNames.append(txtName)\n",
    "\n",
    "for txtName in txtNames:\n",
    "    txtFile=open(\"pdfSentenceExtractor-master//pdf_txts//\"+txtName)\n",
    "    txtFile.seek(0)\n",
    "    docs.append(txtFile.read())\n",
    "    txtFile.close()\n",
    "    "
   ]
  },
  {
   "cell_type": "code",
   "execution_count": 27,
   "metadata": {},
   "outputs": [
    {
     "output_type": "execute_result",
     "data": {
      "text/plain": "8"
     },
     "metadata": {},
     "execution_count": 27
    }
   ],
   "source": [
    "len(docs)"
   ]
  },
  {
   "cell_type": "code",
   "execution_count": 48,
   "metadata": {},
   "outputs": [],
   "source": [
    "#BlackList de palabaras que no queremos que se consideren en el topic Modeling. \n",
    "black_list=['diputado','secretario','punto','día','dia','acta','sesion','honorable','señor','periodo','sesiones','presidente','presidenta','sesion','sesiones','correspondencia','orden','pleno'] #Faltan por agregar."
   ]
  },
  {
   "cell_type": "code",
   "execution_count": 29,
   "metadata": {},
   "outputs": [],
   "source": [
    "import pandas as pd\n",
    "import numpy as np\n",
    "import re\n",
    "import nltk\n",
    "from nltk.stem import WordNetLemmatizer\n",
    "from nltk import word_tokenize\n",
    "from nltk.corpus import stopwords\n",
    "import string\n",
    "import matplotlib.pyplot as plt\n",
    "import gensim\n",
    "import numpy as np\n",
    "from gensim.models import CoherenceModel, LdaModel, LsiModel, HdpModel\n",
    "from gensim.models.wrappers import LdaMallet\n",
    "from gensim.corpora import Dictionary"
   ]
  },
  {
   "cell_type": "code",
   "execution_count": null,
   "metadata": {},
   "outputs": [],
   "source": [
    "Función Cleaner. "
   ]
  },
  {
   "cell_type": "code",
   "execution_count": 42,
   "metadata": {},
   "outputs": [],
   "source": [
    "def cleaner(word):\n",
    "  word = re.sub(r'((http|https)\\:\\/\\/)?[a-zA-Z0-9\\.\\/\\?\\:@\\-_=#]+\\.([a-zA-Z]){2,6}([a-zA-Z0-9\\.\\&\\/\\?\\:@\\-_=#])*', '', word, flags=re.MULTILINE)#Direcciones Web. \n",
    "  word = re.sub(r'\\#\\.', '', word)#Numerales seguidos de puntos.\n",
    "  word = re.sub(r'\\n', '', word)#Saltos de linea\n",
    "  word = re.sub(r',','', word)#Comas\n",
    "  word = re.sub(r'\\-', ' ', word)#Guiones.\n",
    "  word = re.sub(r'\\.{3}', ' ', word)#Puntos suspensivos.\n",
    "  word = re.sub(r'á', 'a', word)#tildes.\n",
    "  word = re.sub(r'é', 'e', word)\n",
    "  word = re.sub(r'í', 'i', word)\n",
    "  word = re.sub(r'ó', 'o', word)\n",
    "  word = re.sub(r'ú', 'u', word) \n",
    "  word = re.sub(r'a{2,}', 'a', word)#Dos o más a seguidas -->a \n",
    "  word = re.sub(r'e{2,}', 'e', word)#Dos o más e seguidas -->a \n",
    "  word = re.sub(r'i{2,}', 'i', word)#Dos o más i seguidas -->a \n",
    "  word = re.sub(r'o{2,}', 'o', word)#Dos o más o seguidas -->a \n",
    "  word = re.sub(r'u{2,}', 'u', word)#Dos o más u seguidas -->a \n",
    "  word = re.sub(r'ja{2,}', 'ja', word)#Jajaja -->ja  \n",
    "  word = re.sub('[^a-zA-Z]', ' ', word)#Todo lo que no sea palabras. \n",
    "  list_word_clean = []\n",
    "  for w1 in word.split(\" \"):\n",
    "    if  w1.lower() not in stopwords:\n",
    "      list_word_clean.append(w1.lower())\n",
    "\n",
    "  bigram_list = bigram[list_word_clean]\n",
    "  out_text = lemmatization(\" \".join(bigram_list))\n",
    "  return out_text"
   ]
  },
  {
   "cell_type": "code",
   "execution_count": 49,
   "metadata": {},
   "outputs": [],
   "source": [
    "#Solo queremos los sustantivos, eliminamos adverbios, adjetivos y verbos. (Con Spacy)\n",
    "def lemmatization(texts, allowed_postags=['NOUN']):\n",
    "    texts_out = [ token.text for token in nlp(texts) if token.pos_ in \n",
    "                 allowed_postags and token.text not in black_list and len(token.text)>2]\n",
    "    return texts_out"
   ]
  },
  {
   "cell_type": "code",
   "execution_count": 31,
   "metadata": {},
   "outputs": [],
   "source": [
    "#Busquemos bigram, para encontrar pares de palabaras que juntan tienen más significado. \n",
    "bigram = gensim.models.Phrases(docs) "
   ]
  },
  {
   "cell_type": "code",
   "execution_count": 41,
   "metadata": {},
   "outputs": [
    {
     "output_type": "execute_result",
     "data": {
      "text/plain": "4646"
     },
     "metadata": {},
     "execution_count": 41
    }
   ],
   "source": [
    "len(bigram[docs[0].split()])"
   ]
  },
  {
   "cell_type": "code",
   "execution_count": 36,
   "metadata": {},
   "outputs": [
    {
     "output_type": "stream",
     "name": "stderr",
     "text": "[nltk_data] Downloading package stopwords to\n[nltk_data]     C:\\Users\\josea\\AppData\\Roaming\\nltk_data...\n[nltk_data]   Unzipping corpora\\stopwords.zip.\n[nltk_data] Downloading package punkt to\n[nltk_data]     C:\\Users\\josea\\AppData\\Roaming\\nltk_data...\n[nltk_data]   Package punkt is already up-to-date!\n"
    },
    {
     "output_type": "execute_result",
     "data": {
      "text/plain": "True"
     },
     "metadata": {},
     "execution_count": 36
    }
   ],
   "source": [
    "import nltk\n",
    "nltk.download('stopwords')\n",
    "nltk.download('punkt')"
   ]
  },
  {
   "cell_type": "code",
   "execution_count": 50,
   "metadata": {},
   "outputs": [],
   "source": [
    "from nltk import word_tokenize\n",
    "from nltk.corpus import stopwords\n",
    "stop = set(stopwords.words('spanish'))\n",
    "\n",
    "additional_stopwords=set(black_list)\n",
    "\n",
    "stopwords = stop.union(additional_stopwords)"
   ]
  },
  {
   "cell_type": "code",
   "execution_count": 38,
   "metadata": {},
   "outputs": [],
   "source": [
    "import spacy\n",
    "nlp = spacy.load('es_core_news_md') "
   ]
  },
  {
   "cell_type": "code",
   "execution_count": 54,
   "metadata": {},
   "outputs": [
    {
     "output_type": "execute_result",
     "data": {
      "text/plain": "3420"
     },
     "metadata": {},
     "execution_count": 54
    }
   ],
   "source": [
    "#Testing the cleaner\n",
    "len(cleaner(docs[7])) "
   ]
  },
  {
   "cell_type": "code",
   "execution_count": 59,
   "metadata": {},
   "outputs": [],
   "source": [
    "#Cleaner is working Properly. Ahora con todos los docs.\n",
    "docsCleaned=[]\n",
    "for doc in docs:\n",
    "    docsCleaned.append(cleaner(doc))"
   ]
  },
  {
   "cell_type": "code",
   "execution_count": 61,
   "metadata": {},
   "outputs": [
    {
     "output_type": "execute_result",
     "data": {
      "text/plain": "8"
     },
     "metadata": {},
     "execution_count": 61
    }
   ],
   "source": [
    "#\n",
    "\n",
    "dictionary.compactify()\n",
    "# Filter extremes\n",
    "dictionary.filter_extremes(no_below=2, no_above=0.97, keep_n=None)\n",
    "dictionary.compactify()\n",
    "\n",
    "corpus = [dictionary.doc2bow(text) for text in df_news['text'].to_list()]"
   ]
  },
  {
   "cell_type": "code",
   "execution_count": 62,
   "metadata": {},
   "outputs": [],
   "source": [
    "#Lo que haremos ahora es crear un diccionario que necesita Gensim para trabajar, básicamente es una lista de lista de tokens. \n",
    "dictionary = Dictionary(docsCleaned) "
   ]
  },
  {
   "cell_type": "code",
   "execution_count": 71,
   "metadata": {},
   "outputs": [
    {
     "output_type": "stream",
     "name": "stdout",
     "text": "0--abandonandonos\n1--acceso\n2--acciones\n3--acogerlos\n4--activos\n5--acuerdo\n6--agradecimiento\n7--agro\n8--agua\n9--ajustes\n10--alimentos\n11--amigos\n12--analfabetismo\n13--anos\n14--anteproyectos\n15--anuncio\n16--arena\n17--arte\n18--artes\n19--asamblea\n20--asistencia\n21--asociaciones\n22--autonomia\n23--autoridades\n24--avance\n25--ayuda\n26--banda\n27--bendiciones\n28--beneficio\n29--bienestar\n30--bloque\n31--calendario\n32--calidad\n33--calor\n34--cambio\n35--cambios\n36--camino\n37--campo\n38--canto\n39--capacidad\n40--carga\n41--carne\n42--casa\n43--certeza\n44--cifras\n45--circuitos\n46--citaciones\n47--ciudadano\n48--ciudadanos\n49--ciudades\n50--clases\n51--cobertura\n52--colegas\n53--comision\n54--comisiones\n55--complacencia\n56--complejidades\n57--compromiso\n58--comunicacion\n59--conciencia\n60--concurrencia\n61--confianza\n62--conjunto\n63--consecuencias\n64--consideracion\n65--consumo\n66--contacto\n67--contratistas\n68--convertirse\n69--corazones\n70--corrientes\n71--cortesias\n72--cosas\n73--creador\n74--crecimiento\n75--credibilidad\n76--crimen\n77--cuenta\n78--cuerpo\n79--dandole\n80--danos\n81--datos\n82--debates\n83--dedicacion\n84--deficiencias\n85--delegaciones\n86--delitos\n87--demas\n88--democracia\n89--denuncias\n90--derecho\n91--derechos\n92--desafio\n93--desafios\n94--desarrollo\n95--descontrol\n96--descubrirte\n97--desechos\n98--desempleo\n99--designaciones\n100--desigualdad\n101--despachos\n102--detenidos\n103--deterioro\n104--deuda\n105--deudas\n106--dialogo\n107--dignidad\n108--dimensiones\n109--diputados\n110--directores\n111--disciplina\n112--disponibilidad\n113--disputas\n114--distanciamiento\n115--dones\n116--dulcisima\n117--efecto\n118--ejecucion\n119--ejemplo\n120--ejercicio\n121--electos\n122--elementos\n123--empresas\n124--encuentro\n125--energias\n126--enero\n127--ense\n128--entidades\n129--entrada\n130--equipo\n131--errores\n132--escepticismo\n133--esclavitud\n134--escuela\n135--escuelas\n136--esfuerzo\n137--esfuerzos\n138--espacio\n139--esperanzas\n140--esposa\n141--estabilidad\n142--estadio\n143--estrategia\n144--estructuras\n145--eternidad\n146--excelencia\n147--excelencias\n148--excepcion\n149--experiencia\n150--falta\n151--familia\n152--fase\n153--favor\n154--fidelidad\n155--fin\n156--finanzas\n157--forma\n158--fortaleza\n159--frente\n160--fuerza\n161--fuerzas\n162--funcionamiento\n163--funcionarios\n164--generaciones\n165--gente\n166--gloria\n167--gobierno\n168--goteras\n169--gracia\n170--gracias\n171--granito\n172--grupos\n173--hambre\n174--hechos\n175--hermanos\n176--hijos\n177--hipoteca\n178--hombre\n179--hombres\n180--hospital\n181--humildad\n182--igualdad\n183--imagen\n184--importaciones\n185--inercia\n186--informacion\n187--informe\n188--infraestructuras\n189--infundenos\n190--ingredientes\n191--ingreso\n192--ingresos\n193--inicia\n194--inicio\n195--inseguridad\n196--instalaciones\n197--institucionalidad\n198--instituciones\n199--integridad\n200--inteligencia\n201--intensidad\n202--interes\n203--intereses\n204--invitados\n205--invocacion\n206--jefes\n207--jueves\n208--julio\n209--junta\n210--justicia\n211--labor\n212--lado\n213--lectura\n214--legislador\n215--legislatura\n216--lenguaje\n217--ley\n218--leyes\n219--libertad\n220--libranos\n221--liderazgo\n222--llaves\n223--luz\n224--majestad\n225--manera\n226--mano\n227--mantenimiento\n228--marcos\n229--marginalidad\n230--mecanismo\n231--mecanismos\n232--medicinas\n233--medidas\n234--medios\n235--mensaje\n236--meses\n237--meta\n238--miembros\n239--millones\n240--ministros\n241--mio\n242--mirada\n243--miserias\n244--misericordia\n245--misiones\n246--modelo\n247--movimiento\n248--muerte\n249--mujer\n250--mujeres\n251--mundo\n252--naturaleza\n253--necesidades\n254--niveles\n255--nombramiento\n256--nombre\n257--nutricion\n258--objetivo\n259--obra\n260--opiniones\n261--oportunidad\n262--oportunidades\n263--ordinarias\n264--ores\n265--organismos\n266--organizaciones\n267--orgullo\n268--origen\n269--pacientes\n270--padre\n271--pago\n272--palabra\n273--panorama\n274--papel\n275--paradigmas\n276--participacion\n277--partidos\n278--paso\n279--pasos\n280--patria\n281--paz\n282--pena\n283--periodos\n284--perseverancia\n285--persona\n286--personas\n287--pesa\n288--pie\n289--pilares\n290--plazo\n291--pobreza\n292--poderes\n293--presencia\n294--presentes\n295--principio\n296--proceso\n297--procurador\n298--procuradores\n299--produccion\n300--productores\n301--profundo\n302--programa\n303--programas\n304--proposito\n305--propositos\n306--propuestas\n307--proyectos\n308--pruebas\n309--pueblo\n310--puertas\n311--ratificados\n312--realidad\n313--realidades\n314--recargos\n315--reglamento\n316--relaciones\n317--rencores\n318--representantes\n319--retos\n320--riqueza\n321--rol\n322--salas\n323--salud\n324--sectores\n325--seguridad\n326--semestre\n327--sentimiento\n328--servicio\n329--servidores\n330--servimos\n331--setecientos\n332--siervos\n333--siglo\n334--sistema\n335--sociedad\n336--solidaridad\n337--soluciones\n338--sostenibilidad\n339--super\n340--suplentes\n341--suspicacia\n342--tal\n343--tambien\n344--tarea\n345--techo\n346--tema\n347--temas\n348--testigos\n349--tiempo\n350--trabajo\n351--traje\n352--transformaciones\n353--transparencia\n354--trasmisiones\n355--turismo\n356--unidad\n357--valor\n358--veces\n359--velas\n360--verdad\n361--vez\n362--vias\n363--vicepresidente\n364--vida\n365--violencia\n366--virtud\n367--voluntad\n368--abril\n369--aca\n370--acto\n371--actuacion\n372--administraciones\n373--adversarios\n374--aguas\n375--ala\n376--alcalde\n377--algun\n378--allanamientos\n379--ambiente\n380--ampliacion\n381--analisis\n382--animales\n383--aparatos\n384--aportes\n385--apoyo\n386--arbol\n387--arcas\n388--asi\n389--ataques\n390--atencion\n391--atraso\n392--aumento\n393--ausencia\n394--autoridad\n395--autoritarismo\n396--avances\n397--bala\n398--basura\n399--batalla\n400--beisbol\n401--blanqueo\n402--bolsa\n403--bondades\n404--boquete\n405--cabo\n406--calle\n407--calles\n408--camara\n409--campeonatos\n410--canal\n411--cantidad\n412--cara\n413--cargo\n414--cari\n415--carretera\n416--carriles\n417--carro\n418--casas\n419--caso\n420--casos\n421--celulares\n422--centro\n423--centros\n424--chat\n425--circuito\n426--ciudad\n427--ciudadania\n428--claridad\n429--clase\n430--colega\n431--comida\n432--comparacion\n433--complicado\n434--comunidad\n435--comunidades\n436--conceptos\n437--concluyo\n438--concordia\n439--concurso\n440--condiciones\n441--conformidad\n442--conocimiento\n443--consecuencia\n444--contienda\n445--contralor\n446--contratos\n447--control\n448--convencimiento\n449--conversacion\n450--conversaciones\n451--copia\n452--corregimiento\n453--corrupcion\n454--corte\n455--cortizo\n456--criterios\n457--cuatrocientos\n458--cuentas\n459--curul\n460--cusa\n461--custodia\n462--darle\n463--debate\n464--decir\n465--decisiones\n466--decreto\n467--delincuencia\n468--delincuentes\n469--demagogia\n470--dengue\n471--desastre\n472--desconocimiento\n473--desempe\n474--deseo\n475--dias\n476--diciembre\n477--dictadura\n478--diferencias\n479--diputada\n480--discurso\n481--discusion\n482--discusiones\n483--disposiciones\n484--distancia\n485--distrito\n486--documento\n487--documentos\n488--dolares\n489--dolor\n490--don\n491--donaciones\n492--eco\n493--economia\n494--ejemplos\n495--elaboracion\n496--elecciones\n497--electores\n498--embargo\n499--empleo\n500--endeudamiento\n501--endeudamientos\n502--enfasis\n503--enfermedades\n504--entendimiento\n505--entrega\n506--episodios\n507--equis\n508--esperanza\n509--establecio\n510--estadios\n511--estadisticas\n512--estilo\n513--etapa\n514--etnia\n515--examen\n516--exigencia\n517--exministra\n518--expectativas\n519--extraordinarias\n520--factura\n521--facultad\n522--fallo\n523--familias\n524--felicitaciones\n525--final\n526--firma\n527--fiscalia\n528--fiscalizadora\n529--fondos\n530--fotos\n531--fracaso\n532--funcionario\n533--funciones\n534--fundamento\n535--fundamentos\n536--genio\n537--gobernantes\n538--gobiernos\n539--golpe\n540--grabaciones\n541--gradas\n542--grupo\n543--guillotina\n544--gustaria\n545--habitantes\n546--hablas\n547--hemiciclo\n548--hermanas\n549--hermano\n550--hijo\n551--himno\n552--historia\n553--homicidio\n554--homicidios\n555--honorables\n556--hora\n557--horas\n558--hospitales\n559--humildes\n560--ideas\n561--importancia\n562--impuestos\n563--incidencia\n564--incidencias\n565--individuos\n566--ingenio\n567--inmediato\n568--innovador\n569--instrucciones\n570--intimidaciones\n571--inversiones\n572--irregularidades\n573--istas\n574--jamones\n575--kilometros\n576--lactancia\n577--lanzador\n578--letrinas\n579--liquido\n580--listas\n581--lucha\n582--lugar\n583--lugares\n584--lunes\n585--madres\n586--mandato\n587--mando\n588--manejo\n589--manos\n590--marzo\n591--mas\n592--materia\n593--matices\n594--media\n595--memoria\n596--mencion\n597--mentalidad\n598--ministerio\n599--ministra\n600--ministro\n601--modificaciones\n602--modo\n603--momento\n604--momentos\n605--montes\n606--moradores\n607--mosquito\n608--motivo\n609--muchisimas\n610--multimillonarios\n611--necesidad\n612--niego\n613--ningun\n614--nivel\n615--normas\n616--nota\n617--notarias\n618--noviembre\n619--objeto\n620--obras\n621--ocasion\n622--ocasiones\n623--octubre\n624--ojala\n625--olivares\n626--pais\n627--paises\n628--palabras\n629--pan\n630--parte\n631--participaciones\n632--partido\n633--pelotero\n634--pensamiento\n635--personal\n636--perspectivas\n637--pese\n638--pinchazo\n639--planes\n640--planta\n641--plataforma\n642--plataformas\n643--plenarias\n644--poblaciones\n645--poder\n646--politicas\n647--ponchados\n648--ponches\n649--populismo\n650--porcentajes\n651--posibilidad\n652--posicion\n653--poste\n654--potabilizadora\n655--potestad\n656--pozos\n657--preguntas\n658--prensa\n659--preocupaciones\n660--presupuesto\n661--prioridad\n662--problema\n663--problemas\n664--procesos\n665--producto\n666--promotores\n667--propiedad\n668--propuesta\n669--prosperidad\n670--proteccion\n671--protestas\n672--provincia\n673--provincias\n674--proyecto\n675--publicidad\n676--pueblos\n677--puntos\n678--razones\n679--reales\n680--reclamo\n681--reconocimiento\n682--record\n683--recursos\n684--redes\n685--reformas\n686--regimen\n687--repudio\n688--requisitos\n689--respecto\n690--respeto\n691--respondieran\n692--responsabilidad\n693--respuesta\n694--respuestas\n695--resultado\n696--retiro\n697--rey\n698--riesgo\n699--sanciones\n700--sangre\n701--secretaria\n702--sector\n703--segundos\n704--semana\n705--semanas\n706--seres\n707--serie\n708--servicios\n709--sistemas\n710--situaciones\n711--sobrecostos\n712--solicitud\n713--sucesos\n714--sumo\n715--tablas\n716--tanques\n717--tardes\n718--tarima\n719--tarjeta\n720--telecomunicaciones\n721--tierra\n722--tinaco\n723--tintero\n724--tipo\n725--tirandonos\n726--toro\n727--trabajador\n728--tragedia\n729--transporte\n730--transportistas\n731--traves\n732--turno\n733--uso\n734--usuarios\n735--vejaciones\n736--victorias\n737--vidas\n738--video\n739--vivienda\n740--viviendas\n741--voto\n742--zona\n743--abasto\n744--abogado\n745--abuso\n746--acercamiento\n747--actividad\n748--actividades\n749--activistas\n750--actuaciones\n751--actualidad\n752--acuerdos\n753--adagio\n754--ademas\n755--afectaciones\n756--afuera\n757--agosto\n758--agregarse\n759--aire\n760--ajuste\n761--alivio\n762--almacenes\n763--alta\n764--angustias\n765--anorexia\n766--anteproyecto\n767--anterioridad\n768--apelacion\n769--aplausos\n770--apoyos\n771--aprobacion\n772--aprovechamiento\n773--aqui\n774--area\n775--areas\n776--argumento\n777--argumentos\n778--arma\n779--armas\n780--articulaciones\n781--articulos\n782--asesina\n783--asesora\n784--asignaturas\n785--aspectos\n786--asunto\n787--asuntos\n788--atracos\n789--atras\n790--atribucion\n791--aunado\n792--autismo\n793--autocensura\n794--autorizacion\n795--averiguaciones\n796--bancadas\n797--banco\n798--bandera\n799--barrios\n800--base\n801--bases\n802--beneficencia\n803--beneficios\n804--bienes\n805--bolsas\n806--bosques\n807--buscarla\n808--caciques\n809--calados\n810--calumnia\n811--camas\n812--camilla\n813--campesinos\n814--cancion\n815--cansancio\n816--caos\n817--capacidades\n818--caracter\n819--carcel\n820--carnet\n821--carreras\n822--carta\n823--cartel\n824--causas\n825--censo\n826--centavos\n827--cero\n828--circulo\n829--circunstancias\n830--clamor\n831--clave\n832--clientelismo\n833--cobro\n834--colaboracion\n835--colaboradores\n836--colacion\n837--combate\n838--combustible\n839--comentarios\n840--comerciantes\n841--comercio\n842--compa\n843--competencia\n844--compras\n845--compromisos\n846--comunicado\n847--comunicador\n848--concede\n849--concepto\n850--concernientes\n851--conducirse\n852--conexion\n853--conflictos\n854--conforme\n855--conocedoras\n856--conocimientos\n857--consenso\n858--consono\n859--constitucion\n860--construcciones\n861--consulta\n862--consultas\n863--contaminacion\n864--contexto\n865--contingencia\n866--continuidad\n867--contrataciones\n868--convenio\n869--convenios\n870--corregimientos\n871--cosa\n872--costas\n873--costos\n874--creacion\n875--crianzas\n876--crimenes\n877--crisis\n878--cubanos\n879--cuestionario\n880--culpa\n881--cultura\n882--cumplimiento\n883--curriculos\n884--curso\n885--defensores\n886--deferencia\n887--deficit\n888--deforestacion\n889--demanda\n890--demandas\n891--denuncia\n892--deportes\n893--derramamiento\n894--desastres\n895--descuido\n896--desfile\n897--despido\n898--despidos\n899--despues\n900--destituciones\n901--destrezas\n902--detras\n903--diferencia\n904--dificultad\n905--difiero\n906--diligencia\n907--dinero\n908--direcciones\n909--directiva\n910--director\n911--dirigentes\n912--discapacidad\n913--discapacidades\n914--disculpas\n915--distritos\n916--distrofia\n917--disturbios\n918--diverso\n919--division\n920--divorcio\n921--docente\n922--doctor\n923--doctores\n924--dolar\n925--drones\n926--duda\n927--edad\n928--educadora\n929--efectividad\n930--electrocardiograma\n931--embarcacion\n932--empleados\n933--empleos\n934--emprendedurismo\n935--empresa\n936--empresario\n937--empresarios\n938--encontro\n939--enemigos\n940--enfermedad\n941--enfermeras\n942--entidad\n943--entorno\n944--entretenimiento\n945--entretenimientos\n946--epidemia\n947--equidad\n948--equipos\n949--esclerosis\n950--escolares\n951--espacios\n952--espiritu\n953--esquizofrenia\n954--establecimiento\n955--estimulo\n956--estres\n957--estudiantes\n958--estudios\n959--evaluacion\n960--evaluaciones\n961--excusa\n962--expedientes\n963--experiencias\n964--exposicion\n965--extension\n966--facultades\n967--faena\n968--fecha\n969--festividad\n970--fiestas\n971--figuritas\n972--fila\n973--firmas\n974--fisco\n975--formas\n976--formato\n977--formulas\n978--foros\n979--fracasos\n980--fuentes\n981--funcion\n982--funciono\n983--gastos\n984--genero\n985--gerente\n986--giro\n987--golpes\n988--grado\n989--grados\n990--guerrero\n991--guias\n992--gusto\n993--habra\n994--hecho\n995--heridas\n996--hogares\n997--horario\n998--hospedaje\n999--huelga\n1000--humanos\n1001--imagenes\n1002--impactos\n1003--impugne\n1004--incumplimiento\n1005--indicio\n1006--influencia\n1007--ingenieria\n1008--iniciativa\n1009--iniciativas\n1010--innovaciones\n1011--inspecciones\n1012--instancia\n1013--instancias\n1014--instantes\n1015--instrumento\n1016--interpretacion\n1017--intervencion\n1018--intervenciones\n1019--investigaciones\n1020--isla\n1021--jabon\n1022--jamas\n1023--jovenes\n1024--jueces\n1025--juez\n1026--juventud\n1027--laboratorio\n1028--ladrones\n1029--lancha\n1030--lanchas\n1031--lesiones\n1032--libros\n1033--linea\n1034--lineas\n1035--litigios\n1036--localidad\n1037--luchas\n1038--madre\n1039--maestra\n1040--maestros\n1041--maltrato\n1042--manifestaciones\n1043--mar\n1044--mareas\n1045--martes\n1046--material\n1047--mea\n1048--medicamentos\n1049--medicina\n1050--medida\n1051--medio\n1052--mejoras\n1053--mercados\n1054--mes\n1055--mesa\n1056--metro\n1057--miembro\n1058--millon\n1059--ministerios\n1060--mintio\n1061--minutos\n1062--mirones\n1063--moneda\n1064--motivos\n1065--motores\n1066--movilidad\n1067--movimientos\n1068--muertes\n1069--nacio\n1070--negligencia\n1071--neurosis\n1072--noche\n1073--noches\n1074--norma\n1075--notas\n1076--note\n1077--notificaciones\n1078--nucleo\n1079--numero\n1080--numeros\n1081--obligaciones\n1082--observacion\n1083--obstante\n1084--oficiales\n1085--oficialismo\n1086--oficina\n1087--oficios\n1088--ojo\n1089--olores\n1090--operador\n1091--oposicion\n1092--ordenamiento\n1093--oro\n1094--padecimiento\n1095--padres\n1096--palacio\n1097--pandilleros\n1098--pantalones\n1099--panza\n1100--par\n1101--paralisis\n1102--parque\n1103--partes\n1104--partir\n1105--patra\n1106--patronato\n1107--patrullajes\n1108--pavipollos\n1109--pecunio\n1110--pedofilia\n1111--pedofilo\n1112--penonome\n1113--pensionados\n1114--perdio\n1115--perdon\n1116--perfeccionismo\n1117--periodismo\n1118--periodista\n1119--peripecias\n1120--permisos\n1121--permitido\n1122--persecucion\n1123--personajes\n1124--pesca\n1125--pescado\n1126--pescador\n1127--pescadores\n1128--peticion\n1129--peticiones\n1130--plan\n1131--planeta\n1132--planilla\n1133--playas\n1134--plazas\n1135--plenitud\n1136--polio\n1137--precio\n1138--precios\n1139--preocupacion\n1140--presidencia\n1141--principios\n1142--procedimientos\n1143--profesion\n1144--profesionales\n1145--profesores\n1146--profundidad\n1147--progresividad\n1148--prometido\n1149--pronunciamientos\n1150--prorroga\n1151--prorrogas\n1152--psicosis\n1153--puerta\n1154--puerto\n1155--puesto\n1156--puestos\n1157--pulmon\n1158--quehacer\n1159--quejas\n1160--quincena\n1161--quinientas\n1162--quinquenio\n1163--raiz\n1164--ramas\n1165--razon\n1166--recibe\n1167--recorrido\n1168--recurso\n1169--refugio\n1170--regiones\n1171--reglamentos\n1172--rehabilitaciones\n1173--relevancia\n1174--remedio\n1175--renovacion\n1176--renovaciones\n1177--representante\n1178--requerimientos\n1179--resarcimiento\n1180--resolucion\n1181--respaldo\n1182--resultados\n1183--reuniones\n1184--revisiones\n1185--revolucion\n1186--rganos\n1187--ritmo\n1188--rueda\n1189--ruta\n1190--sacrificio\n1191--salario\n1192--salarios\n1193--saldo\n1194--saneamiento\n1195--satelite\n1196--secciones\n1197--seguimiento\n1198--sensibilidad\n1199--setenta\n1200--silvestres\n1201--simbiosis\n1202--simulacro\n1203--sindicalistas\n1204--situacion\n1205--someterse\n1206--suelo\n1207--suerte\n1208--sujeto\n1209--sumas\n1210--suministro\n1211--suplente\n1212--suspenda\n1213--sustento\n1214--tala\n1215--tardar\n1216--tareas\n1217--tecnicos\n1218--temitas\n1219--tenia\n1220--terapeutas\n1221--terapia\n1222--terapias\n1223--terceros\n1224--territorio\n1225--tesis\n1226--testimonio\n1227--textos\n1228--tiempos\n1229--tipos\n1230--tirador\n1231--titulo\n1232--todavia\n1233--torres\n1234--totalidad\n1235--trabajadores\n1236--trabajos\n1237--traslado\n1238--tratamiento\n1239--trayectoria\n1240--tribunal\n1241--tribunales\n1242--turistas\n1243--universidades\n1244--urgencia\n1245--vacaciones\n1246--vecinos\n1247--veinticuatro\n1248--venta\n1249--ventaja\n1250--viabilidad\n1251--viaje\n1252--viernes\n1253--visita\n1254--visitas\n1255--viveres\n1256--volumen\n1257--votos\n1258--voz\n1259--vuelta\n1260--vulnerabilidad\n1261--abogados\n1262--accesibilidad\n1263--accesorios\n1264--accidentes\n1265--aceite\n1266--acondicionamiento\n1267--acontecimientos\n1268--afecte\n1269--afecto\n1270--agenda\n1271--agricultores\n1272--alcaldes\n1273--alcance\n1274--alianza\n1275--alianzas\n1276--alusion\n1277--ambientalistas\n1278--amor\n1279--anillo\n1280--apartamento\n1281--aplaudo\n1282--aplicacion\n1283--aplicaciones\n1284--arboles\n1285--armuelles\n1286--arquitectura\n1287--arrendador\n1288--arrendatarios\n1289--artistas\n1290--asesinato\n1291--aspecto\n1292--atentado\n1293--atleta\n1294--atletas\n1295--audiencia\n1296--auditoria\n1297--auditorias\n1298--ausentismo\n1299--autores\n1300--azas\n1301--bajas\n1302--barcos\n1303--belleza\n1304--bienvenida\n1305--boca\n1306--bombas\n1307--bosque\n1308--botella\n1309--cabalidad\n1310--cables\n1311--calentamiento\n1312--campeonato\n1313--cantidades\n1314--capital\n1315--cargos\n1316--carnavales\n1317--carteras\n1318--casonas\n1319--castigo\n1320--castillero\n1321--causa\n1322--celebracion\n1323--censura\n1324--centavo\n1325--cerro\n1326--chiriqui\n1327--cielo\n1328--cifra\n1329--cinta\n1330--cita\n1331--clima\n1332--colegio\n1333--comienzo\n1334--comparecencia\n1335--comparecencias\n1336--competencias\n1337--concesiones\n1338--conexiones\n1339--confronta\n1340--conocer\n1341--consensos\n1342--conservacion\n1343--consiguiente\n1344--contrapesos\n1345--contrato\n1346--convivencia\n1347--corredor\n1348--corriente\n1349--cosecha\n1350--costo\n1351--cuantitos\n1352--cuencas\n1353--culmino\n1354--cumbias\n1355--cuna\n1356--cuotas\n1357--dado\n1358--danzones\n1359--decadencia\n1360--decia\n1361--defensa\n1362--delito\n1363--demora\n1364--densidad\n1365--deporte\n1366--deposito\n1367--desacuerdo\n1368--desperdicios\n1369--destino\n1370--destinos\n1371--destitucion\n1372--destreza\n1373--difusion\n1374--direccion\n1375--directora\n1376--discrecion\n1377--disposicion\n1378--domingos\n1379--dotarse\n1380--edades\n1381--edificaciones\n1382--edificio\n1383--edificios\n1384--efectos\n1385--electricidad\n1386--elemento\n1387--envio\n1388--escases\n1389--escrito\n1390--escritor\n1391--especies\n1392--estatus\n1393--estrategias\n1394--estrella\n1395--estrellas\n1396--estudio\n1397--exacto\n1398--exfuncionarios\n1399--exhorto\n1400--exitos\n1401--exministro\n1402--explicacion\n1403--explicaciones\n1404--expresiones\n1405--extranjero\n1406--extranjeros\n1407--facilidad\n1408--factores\n1409--faldas\n1410--fama\n1411--febrero\n1412--feria\n1413--finales\n1414--finalidad\n1415--firmamos\n1416--fogatas\n1417--fortalecerla\n1418--fortuna\n1419--franja\n1420--frases\n1421--futuro\n1422--gabinete\n1423--gala\n1424--gana\n1425--gases\n1426--gesta\n1427--gobernacion\n1428--gobernanza\n1429--gota\n1430--guantes\n1431--guardabosques\n1432--guardia\n1433--guerra\n1434--hacinamiento\n1435--hectareas\n1436--herramienta\n1437--herramientas\n1438--hidroelectricas\n1439--hierba\n1440--historiador\n1441--hurtos\n1442--idea\n1443--identidad\n1444--impacto\n1445--implementaciones\n1446--impulso\n1447--inauguro\n1448--incendios\n1449--incremento\n1450--industria\n1451--informaciones\n1452--infraccion\n1453--infraestructura\n1454--injerencia\n1455--inocencia\n1456--inquietud\n1457--inspectores\n1458--instrumentos\n1459--interponga\n1460--invernadero\n1461--inversion\n1462--japon\n1463--jornada\n1464--jornadas\n1465--joyas\n1466--juicio\n1467--junto\n1468--lanzamiento\n1469--lastima\n1470--libro\n1471--licenciada\n1472--lista\n1473--litigio\n1474--litro\n1475--logro\n1476--longitud\n1477--mandatario\n1478--manipulacion\n1479--mapa\n1480--marcas\n1481--materias\n1482--mejora\n1483--menciono\n1484--metas\n1485--metros\n1486--militar\n1487--minoritarias\n1488--minuto\n1489--monitoreos\n1490--monta\n1491--monto\n1492--muelle\n1493--mundiales\n1494--municipio\n1495--municipios\n1496--negatividad\n1497--negocio\n1498--negocios\n1499--nombramientos\n1500--normativa\n1501--normativas\n1502--noticia\n1503--noticias\n1504--obligacion\n1505--ocurrio\n1506--online\n1507--orador\n1508--origenes\n1509--orilla\n1510--oxigeno\n1511--palmas\n1512--palos\n1513--paneles\n1514--papa\n1515--parametros\n1516--paranoico\n1517--pasajero\n1518--patrimonio\n1519--peces\n1520--penas\n1521--periodistas\n1522--perjuicio\n1523--pesar\n1524--pesos\n1525--plantas\n1526--playa\n1527--plomo\n1528--poblacion\n1529--podia\n1530--poeta\n1531--polos\n1532--portales\n1533--porticos\n1534--posiciones\n1535--potencia\n1536--precipitaciones\n1537--pregunta\n1538--prenden\n1539--presidentes\n1540--prestigio\n1541--presupuestos\n1542--productos\n1543--profesional\n1544--profesor\n1545--protocolo\n1546--publico\n1547--puertos\n1548--punibilidad\n1549--quema\n1550--ratificaciones\n1551--recuperacion\n1552--reflexion\n1553--reforestaciones\n1554--reitero\n1555--remodelaciones\n1556--republicano\n1557--residencias\n1558--residente\n1559--respondidos\n1560--resto\n1561--restricciones\n1562--resumen\n1563--reunion\n1564--rien\n1565--riendas\n1566--rios\n1567--robos\n1568--sabrina\n1569--saco\n1570--satelites\n1571--sede\n1572--seguro\n1573--septiembre\n1574--seriedad\n1575--siembra\n1576--sillas\n1577--soberanos\n1578--sombrero\n1579--sombreros\n1580--subsistencia\n1581--sugerencia\n1582--talas\n1583--tamboreros\n1584--taquilla\n1585--tecnologia\n1586--temperatura\n1587--terminos\n1588--territorios\n1589--toque\n1590--tradiciones\n1591--tramo\n1592--tranquilidad\n1593--transformacion\n1594--transito\n1595--tricampeonatos\n1596--tumba\n1597--unidades\n1598--vacio\n1599--vamonos\n1600--variedad\n1601--veintidos\n1602--verano\n1603--verdades\n1604--verificaciones\n1605--vertederos\n1606--viceministro\n1607--vigilancia\n1608--vigilantes\n1609--violaciones\n1610--violin\n1611--xxi\n1612--zafra\n1613--zonas\n1614--abanderamiento\n1615--abastecimiento\n1616--abogacia\n1617--abuelo\n1618--acabarnos\n1619--acercarse\n1620--acogida\n1621--acotacion\n1622--acoto\n1623--actas\n1624--actos\n1625--administrador\n1626--adquisicion\n1627--adultos\n1628--agente\n1629--agresores\n1630--ahorros\n1631--aliados\n1632--alineamiento\n1633--alternativas\n1634--ambitos\n1635--amigo\n1636--ansias\n1637--antecedentes\n1638--antena\n1639--apellidos\n1640--apertura\n1641--archivos\n1642--articulo\n1643--asalariados\n1644--asesinatos\n1645--asistente\n1646--asistentes\n1647--aspirantes\n1648--ataque\n1649--aumentos\n1650--autenticidad\n1651--auto\n1652--automoviles\n1653--avalancha\n1654--ayudandonos\n1655--balance\n1656--banca\n1657--bancada\n1658--bancos\n1659--barrio\n1660--brindado\n1661--bueyes\n1662--bullying\n1663--burocracia\n1664--cabecera\n1665--cabeza\n1666--cable\n1667--caja\n1668--calculo\n1669--candidatos\n1670--carrera\n1671--carretero\n1672--carros\n1673--cartas\n1674--chulo\n1675--ciberseguridad\n1676--cigarrillos\n1677--circunscripciones\n1678--clasismo\n1679--colon\n1680--comarcas\n1681--comisionados\n1682--compas\n1683--componente\n1684--computadora\n1685--concordancia\n1686--condenas\n1687--condicion\n1688--conducta\n1689--conductas\n1690--conducto\n1691--conflicto\n1692--consideraciones\n1693--constancia\n1694--consulados\n1695--consules\n1696--consumidor\n1697--contenedores\n1698--conveniencia\n1699--convocatoria\n1700--copias\n1701--corporaciones\n1702--cotidiano\n1703--credenciales\n1704--crematistico\n1705--criminalidad\n1706--criterio\n1707--cuarentena\n1708--cuestionamiento\n1709--curriculo\n1710--custodios\n1711--debatio\n1712--decadas\n1713--decesos\n1714--declaracion\n1715--declaraciones\n1716--declare\n1717--dedo\n1718--defensor\n1719--den\n1720--desgaste\n1721--despacho\n1722--despilfarros\n1723--detencion\n1724--detenimiento\n1725--diapositivas\n1726--diarios\n1727--dieta\n1728--dietas\n1729--dificultades\n1730--dineros\n1731--directivas\n1732--diria\n1733--disconformidad\n1734--disculpa\n1735--discursos\n1736--dispositivos\n1737--distincion\n1738--distingo\n1739--docencia\n1740--dolo\n1741--dudas\n1742--eche\n1743--ecoeficiencia\n1744--ejecutivo\n1745--eleccion\n1746--electorado\n1747--ell\n1748--embajadores\n1749--embarcaciones\n1750--emergencia\n1751--empuje\n1752--encarecidamente\n1753--encontrados\n1754--ente\n1755--entes\n1756--entrevistas\n1757--envergadura\n1758--esbozo\n1759--escenario\n1760--escribano\n1761--escritorio\n1762--escritura\n1763--escrituras\n1764--escuchas\n1765--escuche\n1766--escuchennos\n1767--esencia\n1768--especialista\n1769--especialistas\n1770--esquema\n1771--estafas\n1772--estamento\n1773--estrato\n1774--estratos\n1775--estructura\n1776--evento\n1777--eventos\n1778--excepciones\n1779--exigio\n1780--existio\n1781--explosivos\n1782--expresidente\n1783--falencias\n1784--fallas\n1785--familiares\n1786--farmacias\n1787--femicidio\n1788--femicidios\n1789--ferias\n1790--finca\n1791--fondo\n1792--funcionaria\n1793--fundaciones\n1794--gesto\n1795--gira\n1796--gobernador\n1797--gobernadores\n1798--golf\n1799--graduacion\n1800--graduados\n1801--hablarle\n1802--habria\n1803--herencia\n1804--hija\n1805--hoja\n1806--hojas\n1807--honor\n1808--honorarios\n1809--hubiesemos\n1810--humo\n1811--ida\n1812--imposiciones\n1813--imprescriptibilidad\n1814--incidente\n1815--incluyan\n1816--inconveniencia\n1817--indemnizacion\n1818--indicadores\n1819--informes\n1820--inquietudes\n1821--integracion\n1822--intercambio\n1823--ira\n1824--iriamos\n1825--islas\n1826--ismo\n1827--jersey\n1828--joyita\n1829--juego\n1830--juicios\n1831--junio\n1832--juzgado\n1833--labores\n1834--legislaciones\n1835--limitaciones\n1836--litigantes\n1837--litigiosidad\n1838--llego\n1839--logre\n1840--lomas\n1841--lotificaciones\n1842--luces\n1843--lucro\n1844--lujo\n1845--madera\n1846--magistrados\n1847--manifesto\n1848--maquinas\n1849--marcha\n1850--marco\n1851--margen\n1852--mayoria\n1853--medallas\n1854--mejoro\n1855--mentira\n1856--meterse\n1857--milicia\n1858--mobiliario\n1859--modalidad\n1860--modalidades\n1861--modelos\n1862--modifica\n1863--monologo\n1864--montarse\n1865--muchachos\n1866--negociacion\n1867--negra\n1868--nicotina\n1869--nombres\n1870--notaria\n1871--notario\n1872--notarios\n1873--novedad\n1874--novedades\n1875--objeciones\n1876--objetivos\n1877--observaciones\n1878--obsoleta\n1879--ochocientos\n1880--oficinas\n1881--oficio\n1882--operacion\n1883--operatividad\n1884--oradores\n1885--pagos\n1886--paja\n1887--parados\n1888--paro\n1889--paterno\n1890--patio\n1891--pautas\n1892--pecho\n1893--peligro\n1894--peligrosidad\n1895--penitenciarios\n1896--perfil\n1897--periodicos\n1898--permanecia\n1899--permiso\n1900--pertinencia\n1901--pesadilla\n1902--peso\n1903--pierna\n1904--planteamientos\n1905--plaza\n1906--policias\n1907--polizas\n1908--polleras\n1909--ponerlas\n1910--postulaciones\n1911--postura\n1912--potencias\n1913--potestades\n1914--precedentes\n1915--preferencia\n1916--premisa\n1917--presos\n1918--prioridades\n1919--probidad\n1920--procedimiento\n1921--profesora\n1922--prometio\n1923--pronunciamiento\n1924--protagonismo\n1925--protegerlas\n1926--provedores\n1927--quizas\n1928--rango\n1929--reas\n1930--receso\n1931--rechazo\n1932--recinto\n1933--recomendaciones\n1934--recompensa\n1935--rectitud\n1936--recuento\n1937--recuerdo\n1938--red\n1939--referencia\n1940--reforma\n1941--registro\n1942--regla\n1943--reglas\n1944--reivindicaciones\n1945--rendirle\n1946--renglon\n1947--repente\n1948--representacion\n1949--reputaciones\n1950--reservas\n1951--resoluciones\n1952--responderle\n1953--resuelve\n1954--retraso\n1955--ricos\n1956--robarles\n1957--robe\n1958--secuelas\n1959--secuestros\n1960--sedes\n1961--seguidores\n1962--sencillo\n1963--separacion\n1964--siquiera\n1965--solicitudes\n1966--solucion\n1967--stand\n1968--stop\n1969--sucursales\n1970--sufrimiento\n1971--superintendencia\n1972--suspension\n1973--sustancia\n1974--sustentaciones\n1975--taludes\n1976--tarde\n1977--tasa\n1978--temor\n1979--tendencias\n1980--terror\n1981--texto\n1982--tiendas\n1983--tierras\n1984--tinta\n1985--titulares\n1986--torno\n1987--tramites\n1988--tramos\n1989--tranquila\n1990--trasladarse\n1991--traspaso\n1992--tratado\n1993--trauma\n1994--usuario\n1995--vacios\n1996--vaivenes\n1997--vaso\n1998--vehiculos\n1999--veintitres\n2000--vertiente\n2001--vertientes\n2002--videos\n2003--vigencia\n2004--violacion\n2005--violadas\n2006--visperas\n2007--vista\n2008--visto\n2009--viveza\n2010--vocero\n2011--votantes\n2012--vote\n2013--actitudes\n2014--activarse\n2015--adolescentes\n2016--agentes\n2017--alzas\n2018--amarradas\n2019--antidoping\n2020--aspirante\n2021--autobuses\n2022--autos\n2023--boletas\n2024--bus\n2025--buses\n2026--carreteras\n2027--cartera\n2028--casetas\n2029--chicos\n2030--chivas\n2031--ciencia\n2032--ciencias\n2033--citas\n2034--clinica\n2035--clinicas\n2036--colegios\n2037--complejidad\n2038--complementarse\n2039--comprension\n2040--conducirnos\n2041--contenido\n2042--controles\n2043--corridas\n2044--cupo\n2045--cupos\n2046--debio\n2047--delacion\n2048--delaciones\n2049--desabastecimiento\n2050--desenvolverse\n2051--desercion\n2052--desigualdades\n2053--diplomado\n2054--diplomados\n2055--diplomas\n2056--dopaje\n2057--droga\n2058--eje\n2059--empleadores\n2060--empoderamiento\n2061--emprendimiento\n2062--emprendimientos\n2063--escucha\n2064--estructuracion\n2065--estudiante\n2066--estupefacientes\n2067--examenes\n2068--exdirector\n2069--explicarles\n2070--felicito\n2071--financieros\n2072--fines\n2073--franquicias\n2074--fueros\n2075--habia\n2076--habla\n2077--imperio\n2078--infracciones\n2079--infractor\n2080--instituto\n2081--investigarlos\n2082--jubilacion\n2083--jubilaciones\n2084--jubilados\n2085--juzgamiento\n2086--laboratorios\n2087--legislamos\n2088--letra\n2089--letras\n2090--licencia\n2091--licencias\n2092--listos\n2093--madurez\n2094--magnitud\n2095--mejoramiento\n2096--menciona\n2097--metrobus\n2098--miedo\n2099--mora\n2100--morosidad\n2101--muchisimos\n2102--nacimiento\n2103--operaciones\n2104--operadores\n2105--pacto\n2106--panes\n2107--pasajeros\n2108--pensiones\n2109--perpetradores\n2110--pidiendoles\n2111--posibilidades\n2112--precoces\n2113--prestaciones\n2114--prevencion\n2115--prision\n2116--problematicas\n2117--profesiones\n2118--prueba\n2119--publica\n2120--queda\n2121--rampante\n2122--relacion\n2123--remplazo\n2124--residentes\n2125--riquezas\n2126--rutina\n2127--salones\n2128--sujetos\n2129--sustancias\n2130--taxistas\n2131--tipajes\n2132--transmision\n2133--ultimos\n2134--universidad\n2135--vehiculo\n2136--velocidades\n2137--vendedores\n2138--victima\n2139--violencias\n2140--abuelas\n2141--acompa\n2142--acontecido\n2143--aguante\n2144--amabilidad\n2145--angustia\n2146--antoneros\n2147--arnulfo\n2148--aseo\n2149--bomberos\n2150--caminos\n2151--chepo\n2152--clubes\n2153--comuna\n2154--comunicaciones\n2155--conciudadanos\n2156--consejo\n2157--contumacia\n2158--credito\n2159--creditos\n2160--dele\n2161--delegacion\n2162--derrame\n2163--descargas\n2164--deudor\n2165--devotos\n2166--diabetes\n2167--disipe\n2168--distorsiones\n2169--domingo\n2170--drenaje\n2171--ediles\n2172--eligio\n2173--empleadas\n2174--eslogan\n2175--esposas\n2176--estacione\n2177--existencia\n2178--explotacion\n2179--feligreses\n2180--fiesta\n2181--flagelos\n2182--flexibilidad\n2183--fluido\n2184--fortalecimiento\n2185--franqueza\n2186--frutos\n2187--gestiones\n2188--hacerle\n2189--heces\n2190--hielo\n2191--hueco\n2192--huecos\n2193--incertidumbre\n2194--inconstitucionalidad\n2195--infecciones\n2196--inspeccion\n2197--instante\n2198--insumos\n2199--invasiones\n2200--jefe\n2201--levantamiento\n2202--levante\n2203--males\n2204--medico\n2205--mercado\n2206--merced\n2207--miercoles\n2208--migajas\n2209--milagros\n2210--montos\n2211--muebles\n2212--muertos\n2213--multa\n2214--multas\n2215--olor\n2216--paraguas\n2217--parlamento\n2218--pase\n2219--patronatos\n2220--pertenencias\n2221--precaucion\n2222--presencie\n2223--productor\n2224--profundidades\n2225--proporcionalidad\n2226--proyeccion\n2227--puente\n2228--reincidencia\n2229--reincidencias\n2230--riesgos\n2231--saludo\n2232--santo\n2233--seiscientos\n2234--selecciones\n2235--tasas\n2236--taxi\n2237--tomas\n2238--tributos\n2239--turnos\n2240--vicio\n2241--abastos\n2242--accion\n2243--actualizacion\n2244--agricultor\n2245--agricultura\n2246--agroturismo\n2247--alar\n2248--alcantarillado\n2249--alimento\n2250--alizaciones\n2251--alternativa\n2252--altura\n2253--amortiguamiento\n2254--aparatito\n2255--aparato\n2256--aparezco\n2257--apicultura\n2258--apreciaciones\n2259--arquitecto\n2260--arroz\n2261--asambleas\n2262--asentamientos\n2263--asesores\n2264--asociatividad\n2265--atenderlos\n2266--atente\n2267--auditorio\n2268--autoanalisis\n2269--azucares\n2270--bachiller\n2271--bachillerato\n2272--bachilleratos\n2273--bachilleres\n2274--baluartes\n2275--banderas\n2276--barra\n2277--barriadas\n2278--bebidas\n2279--becas\n2280--bolsillo\n2281--bom\n2282--bonito\n2283--brevedad\n2284--buscarles\n2285--cacao\n2286--cadenas\n2287--campa\n2288--campesino\n2289--campos\n2290--canales\n2291--carbohidratos\n2292--cascabel\n2293--causales\n2294--cebaco\n2295--cebolla\n2296--cebolleros\n2297--celeridad\n2298--cerebro\n2299--chantaje\n2300--charlas\n2301--cisternas\n2302--claritas\n2303--colapso\n2304--combustibles\n2305--comercializacion\n2306--compatriotas\n2307--complicaciones\n2308--compra\n2309--condolencias\n2310--consumismo\n2311--contactos\n2312--contencioso\n2313--continuen\n2314--coraje\n2315--corrales\n2316--corredores\n2317--creatividad\n2318--criminis\n2319--cuestionamientos\n2320--cuidado\n2321--cuota\n2322--cura\n2323--damas\n2324--darse\n2325--deberes\n2326--deducciones\n2327--deficiencia\n2328--dependencia\n2329--desordenes\n2330--dialisis\n2331--dializa\n2332--diario\n2333--directivos\n2334--doctora\n2335--emision\n2336--escala\n2337--escolaridad\n2338--estilos\n2339--estimulos\n2340--estragos\n2341--excedentes\n2342--exhibicionismo\n2343--exito\n2344--expertos\n2345--expida\n2346--fechorias\n2347--felicidades\n2348--fenomeno\n2349--fetichismo\n2350--ficha\n2351--fideicomisos\n2352--figuras\n2353--financiamiento\n2354--financiamientos\n2355--fiscales\n2356--formalidad\n2357--frontera\n2358--fruto\n2359--fuente\n2360--gabinetes\n2361--garita\n2362--general\n2363--genesis\n2364--glicemia\n2365--gobernaciones\n2366--granjas\n2367--gratificacion\n2368--gripe\n2369--hechas\n2370--hemodialisis\n2371--hermana\n2372--hieleras\n2373--hogar\n2374--hoteles\n2375--huerfana\n2376--huertos\n2377--humanidad\n2378--improvisaciones\n2379--impulsor\n2380--incapacidad\n2381--indemnizaciones\n2382--infartos\n2383--ingeniero\n2384--instalacion\n2385--institucion\n2386--insuficiencia\n2387--insulina\n2388--interior\n2389--intranquilidad\n2390--inversionistas\n2391--invierno\n2392--inyectarse\n2393--lago\n2394--leche\n2395--lector\n2396--licitacion\n2397--licitaciones\n2398--lideres\n2399--lineamientos\n2400--listado\n2401--llamese\n2402--madrugada\n2403--manifiesto\n2404--matas\n2405--mediados\n2406--medianos\n2407--medidores\n2408--mercenarios\n2409--merienda\n2410--miseria\n2411--modificacion\n2412--multimedia\n2413--negativas\n2414--nestor\n2415--neurodesarrollo\n2416--obscenas\n2417--organizacion\n2418--oyentes\n2419--paciente\n2420--paisanos\n2421--paros\n2422--patriotas\n2423--peones\n2424--peque\n2425--perforacion\n2426--periurbanas\n2427--pickup\n2428--piedras\n2429--pies\n2430--piloto\n2431--platanares\n2432--platano\n2433--platea\n2434--pobladores\n2435--ponerse\n2436--pornografia\n2437--prediabetes\n2438--premura\n2439--preparacion\n2440--presiones\n2441--prestamo\n2442--privilegios\n2443--productividad\n2444--promedio\n2445--proponentes\n2446--protagonistas\n2447--proteinas\n2448--provecho\n2449--proyecciones\n2450--puyarse\n2451--quejandonos\n2452--quintales\n2453--reanuda\n2454--recorridos\n2455--rector\n2456--reformatorio\n2457--regresarles\n2458--relato\n2459--renales\n2460--renta\n2461--rescate\n2462--respetos\n2463--responsable\n2464--rincones\n2465--robo\n2466--ropa\n2467--rubros\n2468--sala\n2469--satisfaccion\n2470--sedentarismo\n2471--segmento\n2472--sembre\n2473--semillas\n2474--sentimientos\n2475--siento\n2476--sindicatos\n2477--sintiendose\n2478--soldados\n2479--solidarizarme\n2480--sostenimiento\n2481--subirse\n2482--subsidios\n2483--sudor\n2484--sumarios\n2485--superioridad\n2486--supermercados\n2487--tabaco\n2488--tantos\n2489--tendencia\n2490--tenencia\n2491--terminologia\n2492--terrenos\n2493--topes\n2494--transferencia\n2495--trato\n2496--tristeza\n2497--tumores\n2498--uniformes\n2499--valores\n2500--variantes\n2501--vegetales\n2502--vejez\n2503--vela\n2504--verduras\n2505--veto\n2506--viceministerio\n2507--xix\n2508--yuca\n"
    }
   ],
   "source": [
    "for x, y in dictionary.items():\n",
    "    print(str(x)+\"--\"+y)"
   ]
  },
  {
   "cell_type": "code",
   "execution_count": 73,
   "metadata": {},
   "outputs": [],
   "source": [
    "dictionary.compactify()#Da nuevos ID. \n",
    "#Filtramos palabras que estén en minimo 2 documentos y máximo el 97% de documentos. \n",
    "dictionary.filter_extremes(no_below=2, no_above=0.97, keep_n=None)\n",
    "dictionary.compactify()\n",
    "#Creamos el Corpus\n",
    "corpus = [dictionary.doc2bow(text) for text in docsCleaned]"
   ]
  },
  {
   "cell_type": "code",
   "execution_count": 80,
   "metadata": {},
   "outputs": [
    {
     "output_type": "execute_result",
     "data": {
      "text/plain": "8"
     },
     "metadata": {},
     "execution_count": 80
    }
   ],
   "source": [
    "len(corpus) #Bag of words Formato: List of (token_id,token_count) tuple. "
   ]
  },
  {
   "cell_type": "code",
   "execution_count": 100,
   "metadata": {},
   "outputs": [],
   "source": [
    "#Modeling Part, intentaremos 3 tipos de modelos para ver cual produce mejor resultado. \n",
    "#Primer modelo HDP= Hierarchical Dirichlet process\n",
    "hdpmodel=HdpModel(corpus=corpus,id2word=dictionary,random_state=30)"
   ]
  },
  {
   "cell_type": "code",
   "execution_count": 85,
   "metadata": {},
   "outputs": [],
   "source": [
    "#Función para mostrar los temas. \n",
    "def display_topics(model, model_type=\"lda\"):\n",
    "  for topic_idx, topic in enumerate(model.print_topics()):\n",
    "    print (\"Topic %d:\" % (topic_idx))\n",
    "    if model_type== \"hdp\":\n",
    "      print (\" \".join(re.findall( r'\\*(.[^\\*-S]+).?', topic[1])), \"\\n\")\n",
    "    else:\n",
    "      print (\" \".join(re.findall( r'\\\"(.[^\"]+).?', topic[1])), \"\\n\")\n",
    "    "
   ]
  },
  {
   "cell_type": "code",
   "execution_count": 101,
   "metadata": {},
   "outputs": [
    {
     "output_type": "stream",
     "name": "stdout",
     "text": "Topic 0:\nproyecto  parte  ministro  debate  momento  empresa  tardes  nivel  miembro  anteproyecto \n\nTopic 1:\nproyecto  debate  parte  ministro  recursos  nivel  tardes  momento  ejemplo  provincia \n\nTopic 2:\nproyecto  debate  jueves  tardes  casos  pueblo  discurso  nivel  incidencias  desastre \n\nTopic 3:\nproyecto  debate  parte  tipo  informe  transporte  materia  edad  efecto  vehiculos \n\nTopic 4:\nproyecto  debate  problemas  incidencias  uso  alcalde  minutos  distrito  comunidades  informe \n\nTopic 5:\nacciones  pueblo  padre  justicia  desarrollo  informe  casa  legislatura  tarea  grupos \n\nTopic 6:\nverdades  medicinas  desafios  empresario  serie  giro  incertidumbre  arte  centavos  riesgo \n\nTopic 7:\npueblos  repente  sugerencia  estructura  precios  ejecutivo  nutricion  designaciones  distrito  inteligencia \n\nTopic 8:\nmanejo  ministros  dolor  entrega  oficiales  capacidades  movimientos  politicas  productor  familias \n\nTopic 9:\nconveniencia  circuitos  competencia  vulnerabilidad  ministros  actividad  atraso  negocio  monto  sectores \n\nTopic 10:\nfacultad  notas  cargos  gobernantes  gradas  fuentes  administraciones  condiciones  recurso  lado \n\nTopic 11:\nhospitales  batalla  despachos  designaciones  caciques  libertad  noches  inspecciones  aplicaciones  unidades \n\nTopic 12:\nclase  setenta  suelo  orador  motores  centavos  medicamentos  deuda  decisiones  servidores \n\nTopic 13:\nservicios  basura  exposicion  escuelas  beisbol  mandato  experiencia  tribunal  costo  calles \n\nTopic 14:\ndocumento  programa  playa  grupo  medicamentos  retiro  almacenes  bendiciones  ense  marzo \n\nTopic 15:\nnoticia  evento  tesis  diputada  ojala  padres  suspension  deportes  clamor  pueblos \n\nTopic 16:\nelecciones  tenia  centros  parametros  enfermedades  ejercicio  julio  verdades  saco  caso \n\nTopic 17:\nojala  tarea  bienes  amigos  cosecha  canal  discapacidad  ajuste  aplicacion  lugares \n\nTopic 18:\nvideos  voluntad  evento  funcionario  horario  discurso  creacion  testigos  pena  conocimientos \n\nTopic 19:\nbase  verdades  pagos  tierras  mundo  entrada  carro  semana  materia  debate \n\n"
    }
   ],
   "source": [
    "display_topics(hdpmodel,model_type=\"hdp\")"
   ]
  },
  {
   "cell_type": "code",
   "execution_count": 96,
   "metadata": {},
   "outputs": [],
   "source": [
    "#Segundo modelo Lsi= Latent semantic analysis\n",
    "lsimodel = LsiModel(corpus=corpus, num_topics=10, id2word=dictionary)"
   ]
  },
  {
   "cell_type": "code",
   "execution_count": 97,
   "metadata": {},
   "outputs": [
    {
     "output_type": "stream",
     "name": "stdout",
     "text": "Topic 0:\nproyecto debate parte ministro tardes momento nivel empresa anteproyecto miembro \n\nTopic 1:\nproyecto ambiente momento parte acceso nivel ministro propuestas diabetes debate \n\nTopic 2:\nmiembro acceso recursos notarias habitantes junta voto provincia empresa centros \n\nTopic 3:\nsalario proyecto corregimientos sector debate equipo uso incidencias trabajadores nivel \n\nTopic 4:\ndebate recursos transporte ejemplo miembro empresa junta vehiculos informe normas \n\nTopic 5:\njueves pueblo parte tipo desastre incidencias discurso casos marzo tardes \n\nTopic 6:\nproblemas incidencias alcalde distrito minutos tipo transporte comunidades sanciones anteproyecto \n\nTopic 7:\nacciones padre informe justicia pueblo casa tarea instituciones legislatura julio \n\n"
    }
   ],
   "source": [
    "display_topics(lsimodel)"
   ]
  },
  {
   "cell_type": "code",
   "execution_count": 94,
   "metadata": {},
   "outputs": [],
   "source": [
    "#Tercer modelo lda = Laten Dirichlet Allotacion Model\n",
    "ldamodel= LdaModel(corpus=corpus,num_topics=10,id2word=dictionary)"
   ]
  },
  {
   "cell_type": "code",
   "execution_count": 95,
   "metadata": {},
   "outputs": [
    {
     "output_type": "stream",
     "name": "stdout",
     "text": "Topic 0:\nproyecto parte debate ministro nivel provincia acceso tardes recursos anteproyecto \n\nTopic 1:\nproyecto debate tardes empresa momento parte miembro nivel ministro tipo \n\nTopic 2:\nproyecto debate parte momento pueblo nivel acceso uso anteproyecto incidencias \n\nTopic 3:\nproyecto debate ministro tardes momento parte nivel desarrollo uso pueblo \n\nTopic 4:\nproyecto debate parte ministro nivel tardes momento empresa tipo miembro \n\nTopic 5:\nproyecto parte debate acceso momento tardes anteproyecto incidencias nivel pueblo \n\nTopic 6:\nproyecto debate parte nivel momento ministro tardes empresa fin tipo \n\nTopic 7:\nproyecto debate parte ministro tardes tipo nivel empresa provincia recursos \n\nTopic 8:\nproyecto debate momento parte anteproyecto nivel ministro tardes recursos informe \n\nTopic 9:\nproyecto debate parte ministro tardes momento nivel incidencias fin tipo \n\n"
    }
   ],
   "source": [
    "display_topics(ldamodel)"
   ]
  },
  {
   "cell_type": "code",
   "execution_count": 102,
   "metadata": {},
   "outputs": [],
   "source": [
    "#Get the topics from each model.\n",
    "lsitopics = [[word for word, prob in topic] for topicid, topic in lsimodel.show_topics(formatted=False)]\n",
    "\n",
    "hdptopics = [[word for word, prob in topic] for topicid, topic in hdpmodel.show_topics(formatted=False)]\n",
    "\n",
    "ldatopics = [[word for word, prob in topic] for topicid, topic in ldamodel.show_topics(formatted=False)]"
   ]
  },
  {
   "cell_type": "code",
   "execution_count": 106,
   "metadata": {},
   "outputs": [
    {
     "output_type": "execute_result",
     "data": {
      "text/plain": "[['proyecto',\n  'parte',\n  'ministro',\n  'debate',\n  'momento',\n  'empresa',\n  'tardes',\n  'nivel',\n  'miembro',\n  'anteproyecto',\n  'acceso',\n  'funcionarios',\n  'junta',\n  'cantidad',\n  'ambiente',\n  'circuito',\n  'provincia',\n  'embargo',\n  'salario',\n  'sector'],\n ['proyecto',\n  'debate',\n  'parte',\n  'ministro',\n  'recursos',\n  'nivel',\n  'tardes',\n  'momento',\n  'ejemplo',\n  'provincia',\n  'tipo',\n  'anteproyecto',\n  'empresa',\n  'dolares',\n  'incidencias',\n  'uso',\n  'acceso',\n  'pueblo',\n  'desarrollo',\n  'disposiciones'],\n ['proyecto',\n  'debate',\n  'jueves',\n  'tardes',\n  'casos',\n  'pueblo',\n  'discurso',\n  'nivel',\n  'incidencias',\n  'desastre',\n  'acceso',\n  'partido',\n  'marzo',\n  'reformas',\n  'fin',\n  'agua',\n  'errores',\n  'ministro',\n  'mensaje',\n  'transporte'],\n ['proyecto',\n  'debate',\n  'parte',\n  'tipo',\n  'informe',\n  'transporte',\n  'materia',\n  'edad',\n  'efecto',\n  'vehiculos',\n  'autoridad',\n  'disposiciones',\n  'transito',\n  'pena',\n  'manejo',\n  'vehiculo',\n  'examenes',\n  'escuelas',\n  'uso',\n  'seguro'],\n ['proyecto',\n  'debate',\n  'problemas',\n  'incidencias',\n  'uso',\n  'alcalde',\n  'minutos',\n  'distrito',\n  'comunidades',\n  'informe',\n  'propuesta',\n  'fin',\n  'disposiciones',\n  'parte',\n  'nivel',\n  'vehiculos',\n  'secretaria',\n  'anteproyecto',\n  'lunes',\n  'pueblo'],\n ['acciones',\n  'pueblo',\n  'padre',\n  'justicia',\n  'desarrollo',\n  'informe',\n  'casa',\n  'legislatura',\n  'tarea',\n  'grupos',\n  'julio',\n  'suplentes',\n  'instituciones',\n  'anteproyectos',\n  'esfuerzo',\n  'ciudadanos',\n  'pie',\n  'hombre',\n  'inicio',\n  'asistencia'],\n ['verdades',\n  'medicinas',\n  'desafios',\n  'empresario',\n  'serie',\n  'giro',\n  'incertidumbre',\n  'arte',\n  'centavos',\n  'riesgo',\n  'letrinas',\n  'plazo',\n  'estimulo',\n  'capacidades',\n  'orador',\n  'ministerio',\n  'genero',\n  'segundos',\n  'soluciones',\n  'causas'],\n ['pueblos',\n  'repente',\n  'sugerencia',\n  'estructura',\n  'precios',\n  'ejecutivo',\n  'nutricion',\n  'designaciones',\n  'distrito',\n  'inteligencia',\n  'clamor',\n  'pesca',\n  'consulta',\n  'pantalones',\n  'articulos',\n  'liderazgo',\n  'aqui',\n  'economia',\n  'contenido',\n  'centavos'],\n ['manejo',\n  'ministros',\n  'dolor',\n  'entrega',\n  'oficiales',\n  'capacidades',\n  'movimientos',\n  'politicas',\n  'productor',\n  'familias',\n  'saldo',\n  'salario',\n  'mes',\n  'modelos',\n  'consenso',\n  'entretenimiento',\n  'combate',\n  'deficiencias',\n  'perjuicio',\n  'respecto'],\n ['conveniencia',\n  'circuitos',\n  'competencia',\n  'vulnerabilidad',\n  'ministros',\n  'actividad',\n  'atraso',\n  'negocio',\n  'monto',\n  'sectores',\n  'semana',\n  'productos',\n  'salones',\n  'invitados',\n  'concernientes',\n  'dialogo',\n  'pasos',\n  'voto',\n  'trabajador',\n  'transporte'],\n ['facultad',\n  'notas',\n  'cargos',\n  'gobernantes',\n  'gradas',\n  'fuentes',\n  'administraciones',\n  'condiciones',\n  'recurso',\n  'lado',\n  'segundos',\n  'combate',\n  'actos',\n  'contenedores',\n  'poblacion',\n  'infraestructuras',\n  'edad',\n  'procesos',\n  'cosa',\n  'respaldo'],\n ['hospitales',\n  'batalla',\n  'despachos',\n  'designaciones',\n  'caciques',\n  'libertad',\n  'noches',\n  'inspecciones',\n  'aplicaciones',\n  'unidades',\n  'cantidades',\n  'consecuencias',\n  'palabras',\n  'hora',\n  'convenio',\n  'jueves',\n  'delegaciones',\n  'pan',\n  'finalidad',\n  'edad'],\n ['clase',\n  'setenta',\n  'suelo',\n  'orador',\n  'motores',\n  'centavos',\n  'medicamentos',\n  'deuda',\n  'decisiones',\n  'servidores',\n  'profundidad',\n  'camino',\n  'veintitres',\n  'plataforma',\n  'inteligencia',\n  'gobernantes',\n  'estadio',\n  'afuera',\n  'abuso',\n  'apoyo'],\n ['servicios',\n  'basura',\n  'exposicion',\n  'escuelas',\n  'beisbol',\n  'mandato',\n  'experiencia',\n  'tribunal',\n  'costo',\n  'calles',\n  'mensaje',\n  'insumos',\n  'libertad',\n  'planes',\n  'pronunciamientos',\n  'explicaciones',\n  'lineas',\n  'argumento',\n  'vicepresidente',\n  'crecimiento'],\n ['documento',\n  'programa',\n  'playa',\n  'grupo',\n  'medicamentos',\n  'retiro',\n  'almacenes',\n  'bendiciones',\n  'ense',\n  'marzo',\n  'amigos',\n  'isla',\n  'entrada',\n  'mercados',\n  'nota',\n  'contenedores',\n  'inicio',\n  'agricultores',\n  'casas',\n  'adultos'],\n ['noticia',\n  'evento',\n  'tesis',\n  'diputada',\n  'ojala',\n  'padres',\n  'suspension',\n  'deportes',\n  'clamor',\n  'pueblos',\n  'penonome',\n  'conciencia',\n  'mejoramiento',\n  'lugares',\n  'costos',\n  'tratamiento',\n  'cabalidad',\n  'pan',\n  'esfuerzo',\n  'comisionados'],\n ['elecciones',\n  'tenia',\n  'centros',\n  'parametros',\n  'enfermedades',\n  'ejercicio',\n  'julio',\n  'verdades',\n  'saco',\n  'caso',\n  'obstante',\n  'desfile',\n  'diabetes',\n  'credibilidad',\n  'ejecutivo',\n  'caja',\n  'tierra',\n  'guias',\n  'riqueza',\n  'movimiento'],\n ['ojala',\n  'tarea',\n  'bienes',\n  'amigos',\n  'cosecha',\n  'canal',\n  'discapacidad',\n  'ajuste',\n  'aplicacion',\n  'lugares',\n  'mandato',\n  'tribunales',\n  'poder',\n  'penonome',\n  'contenido',\n  'tiempos',\n  'decreto',\n  'vulnerabilidad',\n  'consumo',\n  'diabetes'],\n ['videos',\n  'voluntad',\n  'evento',\n  'funcionario',\n  'horario',\n  'discurso',\n  'creacion',\n  'testigos',\n  'pena',\n  'conocimientos',\n  'politicas',\n  'comisionados',\n  'profesionales',\n  'detras',\n  'deportes',\n  'zonas',\n  'gobernantes',\n  'tribunales',\n  'negocios',\n  'tarea'],\n ['base',\n  'verdades',\n  'pagos',\n  'tierras',\n  'mundo',\n  'entrada',\n  'carro',\n  'semana',\n  'materia',\n  'debate',\n  'espiritu',\n  'enfermedad',\n  'conceptos',\n  'videos',\n  'gastos',\n  'precios',\n  'cero',\n  'cantidad',\n  'agua',\n  'urgencia']]"
     },
     "metadata": {},
     "execution_count": 106
    }
   ],
   "source": [
    "hdptopics"
   ]
  },
  {
   "cell_type": "code",
   "execution_count": 108,
   "metadata": {},
   "outputs": [],
   "source": [
    "lsi_coherence = CoherenceModel(topics=lsitopics[:10], texts=docsCleaned, dictionary=dictionary, window_size=10).get_coherence()\n",
    "hdp_coherence = CoherenceModel(topics=hdptopics[:10], texts=docsCleaned, dictionary=dictionary, window_size=10).get_coherence()\n",
    "lda_coherence = CoherenceModel(topics=ldatopics, texts=docsCleaned, dictionary=dictionary, window_size=10).get_coherence()"
   ]
  },
  {
   "cell_type": "code",
   "execution_count": 112,
   "metadata": {},
   "outputs": [
    {
     "output_type": "execute_result",
     "data": {
      "text/plain": "<matplotlib.axes._subplots.AxesSubplot at 0x1ef68a7d580>"
     },
     "metadata": {},
     "execution_count": 112
    },
    {
     "output_type": "display_data",
     "data": {
      "text/plain": "<Figure size 432x288 with 1 Axes>",
      "image/svg+xml": "<?xml version=\"1.0\" encoding=\"utf-8\" standalone=\"no\"?>\r\n<!DOCTYPE svg PUBLIC \"-//W3C//DTD SVG 1.1//EN\"\r\n  \"http://www.w3.org/Graphics/SVG/1.1/DTD/svg11.dtd\">\r\n<!-- Created with matplotlib (https://matplotlib.org/) -->\r\n<svg height=\"248.79625pt\" version=\"1.1\" viewBox=\"0 0 372.103125 248.79625\" width=\"372.103125pt\" xmlns=\"http://www.w3.org/2000/svg\" xmlns:xlink=\"http://www.w3.org/1999/xlink\">\r\n <defs>\r\n  <style type=\"text/css\">\r\n*{stroke-linecap:butt;stroke-linejoin:round;}\r\n  </style>\r\n </defs>\r\n <g id=\"figure_1\">\r\n  <g id=\"patch_1\">\r\n   <path d=\"M 0 248.79625 \r\nL 372.103125 248.79625 \r\nL 372.103125 0 \r\nL 0 0 \r\nz\r\n\" style=\"fill:none;\"/>\r\n  </g>\r\n  <g id=\"axes_1\">\r\n   <g id=\"patch_2\">\r\n    <path d=\"M 30.103125 224.64 \r\nL 364.903125 224.64 \r\nL 364.903125 7.2 \r\nL 30.103125 7.2 \r\nz\r\n\" style=\"fill:#ffffff;\"/>\r\n   </g>\r\n   <g id=\"patch_3\">\r\n    <path clip-path=\"url(#pcc9fd0b103)\" d=\"M 41.263125 224.64 \r\nL 130.543125 224.64 \r\nL 130.543125 109.89939 \r\nL 41.263125 109.89939 \r\nz\r\n\" style=\"fill:#3274a1;\"/>\r\n   </g>\r\n   <g id=\"patch_4\">\r\n    <path clip-path=\"url(#pcc9fd0b103)\" d=\"M 152.863125 224.64 \r\nL 242.143125 224.64 \r\nL 242.143125 17.554286 \r\nL 152.863125 17.554286 \r\nz\r\n\" style=\"fill:#e1812c;\"/>\r\n   </g>\r\n   <g id=\"patch_5\">\r\n    <path clip-path=\"url(#pcc9fd0b103)\" d=\"M 264.463125 224.64 \r\nL 353.743125 224.64 \r\nL 353.743125 136.846029 \r\nL 264.463125 136.846029 \r\nz\r\n\" style=\"fill:#3a923a;\"/>\r\n   </g>\r\n   <g id=\"matplotlib.axis_1\">\r\n    <g id=\"xtick_1\">\r\n     <g id=\"line2d_1\">\r\n      <defs>\r\n       <path d=\"M 0 0 \r\nL 0 3.5 \r\n\" id=\"m3b04ee00c5\" style=\"stroke:#000000;stroke-width:0.8;\"/>\r\n      </defs>\r\n      <g>\r\n       <use style=\"stroke:#000000;stroke-width:0.8;\" x=\"85.903125\" xlink:href=\"#m3b04ee00c5\" y=\"224.64\"/>\r\n      </g>\r\n     </g>\r\n     <g id=\"text_1\">\r\n      <!-- lsi_coherence -->\r\n      <defs>\r\n       <path d=\"M 9.421875 75.984375 \r\nL 18.40625 75.984375 \r\nL 18.40625 0 \r\nL 9.421875 0 \r\nz\r\n\" id=\"DejaVuSans-108\"/>\r\n       <path d=\"M 44.28125 53.078125 \r\nL 44.28125 44.578125 \r\nQ 40.484375 46.53125 36.375 47.5 \r\nQ 32.28125 48.484375 27.875 48.484375 \r\nQ 21.1875 48.484375 17.84375 46.4375 \r\nQ 14.5 44.390625 14.5 40.28125 \r\nQ 14.5 37.15625 16.890625 35.375 \r\nQ 19.28125 33.59375 26.515625 31.984375 \r\nL 29.59375 31.296875 \r\nQ 39.15625 29.25 43.1875 25.515625 \r\nQ 47.21875 21.78125 47.21875 15.09375 \r\nQ 47.21875 7.46875 41.1875 3.015625 \r\nQ 35.15625 -1.421875 24.609375 -1.421875 \r\nQ 20.21875 -1.421875 15.453125 -0.5625 \r\nQ 10.6875 0.296875 5.421875 2 \r\nL 5.421875 11.28125 \r\nQ 10.40625 8.6875 15.234375 7.390625 \r\nQ 20.0625 6.109375 24.8125 6.109375 \r\nQ 31.15625 6.109375 34.5625 8.28125 \r\nQ 37.984375 10.453125 37.984375 14.40625 \r\nQ 37.984375 18.0625 35.515625 20.015625 \r\nQ 33.0625 21.96875 24.703125 23.78125 \r\nL 21.578125 24.515625 \r\nQ 13.234375 26.265625 9.515625 29.90625 \r\nQ 5.8125 33.546875 5.8125 39.890625 \r\nQ 5.8125 47.609375 11.28125 51.796875 \r\nQ 16.75 56 26.8125 56 \r\nQ 31.78125 56 36.171875 55.265625 \r\nQ 40.578125 54.546875 44.28125 53.078125 \r\nz\r\n\" id=\"DejaVuSans-115\"/>\r\n       <path d=\"M 9.421875 54.6875 \r\nL 18.40625 54.6875 \r\nL 18.40625 0 \r\nL 9.421875 0 \r\nz\r\nM 9.421875 75.984375 \r\nL 18.40625 75.984375 \r\nL 18.40625 64.59375 \r\nL 9.421875 64.59375 \r\nz\r\n\" id=\"DejaVuSans-105\"/>\r\n       <path d=\"M 50.984375 -16.609375 \r\nL 50.984375 -23.578125 \r\nL -0.984375 -23.578125 \r\nL -0.984375 -16.609375 \r\nz\r\n\" id=\"DejaVuSans-95\"/>\r\n       <path d=\"M 48.78125 52.59375 \r\nL 48.78125 44.1875 \r\nQ 44.96875 46.296875 41.140625 47.34375 \r\nQ 37.3125 48.390625 33.40625 48.390625 \r\nQ 24.65625 48.390625 19.8125 42.84375 \r\nQ 14.984375 37.3125 14.984375 27.296875 \r\nQ 14.984375 17.28125 19.8125 11.734375 \r\nQ 24.65625 6.203125 33.40625 6.203125 \r\nQ 37.3125 6.203125 41.140625 7.25 \r\nQ 44.96875 8.296875 48.78125 10.40625 \r\nL 48.78125 2.09375 \r\nQ 45.015625 0.34375 40.984375 -0.53125 \r\nQ 36.96875 -1.421875 32.421875 -1.421875 \r\nQ 20.0625 -1.421875 12.78125 6.34375 \r\nQ 5.515625 14.109375 5.515625 27.296875 \r\nQ 5.515625 40.671875 12.859375 48.328125 \r\nQ 20.21875 56 33.015625 56 \r\nQ 37.15625 56 41.109375 55.140625 \r\nQ 45.0625 54.296875 48.78125 52.59375 \r\nz\r\n\" id=\"DejaVuSans-99\"/>\r\n       <path d=\"M 30.609375 48.390625 \r\nQ 23.390625 48.390625 19.1875 42.75 \r\nQ 14.984375 37.109375 14.984375 27.296875 \r\nQ 14.984375 17.484375 19.15625 11.84375 \r\nQ 23.34375 6.203125 30.609375 6.203125 \r\nQ 37.796875 6.203125 41.984375 11.859375 \r\nQ 46.1875 17.53125 46.1875 27.296875 \r\nQ 46.1875 37.015625 41.984375 42.703125 \r\nQ 37.796875 48.390625 30.609375 48.390625 \r\nz\r\nM 30.609375 56 \r\nQ 42.328125 56 49.015625 48.375 \r\nQ 55.71875 40.765625 55.71875 27.296875 \r\nQ 55.71875 13.875 49.015625 6.21875 \r\nQ 42.328125 -1.421875 30.609375 -1.421875 \r\nQ 18.84375 -1.421875 12.171875 6.21875 \r\nQ 5.515625 13.875 5.515625 27.296875 \r\nQ 5.515625 40.765625 12.171875 48.375 \r\nQ 18.84375 56 30.609375 56 \r\nz\r\n\" id=\"DejaVuSans-111\"/>\r\n       <path d=\"M 54.890625 33.015625 \r\nL 54.890625 0 \r\nL 45.90625 0 \r\nL 45.90625 32.71875 \r\nQ 45.90625 40.484375 42.875 44.328125 \r\nQ 39.84375 48.1875 33.796875 48.1875 \r\nQ 26.515625 48.1875 22.3125 43.546875 \r\nQ 18.109375 38.921875 18.109375 30.90625 \r\nL 18.109375 0 \r\nL 9.078125 0 \r\nL 9.078125 75.984375 \r\nL 18.109375 75.984375 \r\nL 18.109375 46.1875 \r\nQ 21.34375 51.125 25.703125 53.5625 \r\nQ 30.078125 56 35.796875 56 \r\nQ 45.21875 56 50.046875 50.171875 \r\nQ 54.890625 44.34375 54.890625 33.015625 \r\nz\r\n\" id=\"DejaVuSans-104\"/>\r\n       <path d=\"M 56.203125 29.59375 \r\nL 56.203125 25.203125 \r\nL 14.890625 25.203125 \r\nQ 15.484375 15.921875 20.484375 11.0625 \r\nQ 25.484375 6.203125 34.421875 6.203125 \r\nQ 39.59375 6.203125 44.453125 7.46875 \r\nQ 49.3125 8.734375 54.109375 11.28125 \r\nL 54.109375 2.78125 \r\nQ 49.265625 0.734375 44.1875 -0.34375 \r\nQ 39.109375 -1.421875 33.890625 -1.421875 \r\nQ 20.796875 -1.421875 13.15625 6.1875 \r\nQ 5.515625 13.8125 5.515625 26.8125 \r\nQ 5.515625 40.234375 12.765625 48.109375 \r\nQ 20.015625 56 32.328125 56 \r\nQ 43.359375 56 49.78125 48.890625 \r\nQ 56.203125 41.796875 56.203125 29.59375 \r\nz\r\nM 47.21875 32.234375 \r\nQ 47.125 39.59375 43.09375 43.984375 \r\nQ 39.0625 48.390625 32.421875 48.390625 \r\nQ 24.90625 48.390625 20.390625 44.140625 \r\nQ 15.875 39.890625 15.1875 32.171875 \r\nz\r\n\" id=\"DejaVuSans-101\"/>\r\n       <path d=\"M 41.109375 46.296875 \r\nQ 39.59375 47.171875 37.8125 47.578125 \r\nQ 36.03125 48 33.890625 48 \r\nQ 26.265625 48 22.1875 43.046875 \r\nQ 18.109375 38.09375 18.109375 28.8125 \r\nL 18.109375 0 \r\nL 9.078125 0 \r\nL 9.078125 54.6875 \r\nL 18.109375 54.6875 \r\nL 18.109375 46.1875 \r\nQ 20.953125 51.171875 25.484375 53.578125 \r\nQ 30.03125 56 36.53125 56 \r\nQ 37.453125 56 38.578125 55.875 \r\nQ 39.703125 55.765625 41.0625 55.515625 \r\nz\r\n\" id=\"DejaVuSans-114\"/>\r\n       <path d=\"M 54.890625 33.015625 \r\nL 54.890625 0 \r\nL 45.90625 0 \r\nL 45.90625 32.71875 \r\nQ 45.90625 40.484375 42.875 44.328125 \r\nQ 39.84375 48.1875 33.796875 48.1875 \r\nQ 26.515625 48.1875 22.3125 43.546875 \r\nQ 18.109375 38.921875 18.109375 30.90625 \r\nL 18.109375 0 \r\nL 9.078125 0 \r\nL 9.078125 54.6875 \r\nL 18.109375 54.6875 \r\nL 18.109375 46.1875 \r\nQ 21.34375 51.125 25.703125 53.5625 \r\nQ 30.078125 56 35.796875 56 \r\nQ 45.21875 56 50.046875 50.171875 \r\nQ 54.890625 44.34375 54.890625 33.015625 \r\nz\r\n\" id=\"DejaVuSans-110\"/>\r\n      </defs>\r\n      <g transform=\"translate(51.952344 239.238438)scale(0.1 -0.1)\">\r\n       <use xlink:href=\"#DejaVuSans-108\"/>\r\n       <use x=\"27.783203\" xlink:href=\"#DejaVuSans-115\"/>\r\n       <use x=\"79.882812\" xlink:href=\"#DejaVuSans-105\"/>\r\n       <use x=\"107.666016\" xlink:href=\"#DejaVuSans-95\"/>\r\n       <use x=\"157.666016\" xlink:href=\"#DejaVuSans-99\"/>\r\n       <use x=\"212.646484\" xlink:href=\"#DejaVuSans-111\"/>\r\n       <use x=\"273.828125\" xlink:href=\"#DejaVuSans-104\"/>\r\n       <use x=\"337.207031\" xlink:href=\"#DejaVuSans-101\"/>\r\n       <use x=\"398.730469\" xlink:href=\"#DejaVuSans-114\"/>\r\n       <use x=\"437.59375\" xlink:href=\"#DejaVuSans-101\"/>\r\n       <use x=\"499.117188\" xlink:href=\"#DejaVuSans-110\"/>\r\n       <use x=\"562.496094\" xlink:href=\"#DejaVuSans-99\"/>\r\n       <use x=\"617.476562\" xlink:href=\"#DejaVuSans-101\"/>\r\n      </g>\r\n     </g>\r\n    </g>\r\n    <g id=\"xtick_2\">\r\n     <g id=\"line2d_2\">\r\n      <g>\r\n       <use style=\"stroke:#000000;stroke-width:0.8;\" x=\"197.503125\" xlink:href=\"#m3b04ee00c5\" y=\"224.64\"/>\r\n      </g>\r\n     </g>\r\n     <g id=\"text_2\">\r\n      <!-- hdp_coherence -->\r\n      <defs>\r\n       <path d=\"M 45.40625 46.390625 \r\nL 45.40625 75.984375 \r\nL 54.390625 75.984375 \r\nL 54.390625 0 \r\nL 45.40625 0 \r\nL 45.40625 8.203125 \r\nQ 42.578125 3.328125 38.25 0.953125 \r\nQ 33.9375 -1.421875 27.875 -1.421875 \r\nQ 17.96875 -1.421875 11.734375 6.484375 \r\nQ 5.515625 14.40625 5.515625 27.296875 \r\nQ 5.515625 40.1875 11.734375 48.09375 \r\nQ 17.96875 56 27.875 56 \r\nQ 33.9375 56 38.25 53.625 \r\nQ 42.578125 51.265625 45.40625 46.390625 \r\nz\r\nM 14.796875 27.296875 \r\nQ 14.796875 17.390625 18.875 11.75 \r\nQ 22.953125 6.109375 30.078125 6.109375 \r\nQ 37.203125 6.109375 41.296875 11.75 \r\nQ 45.40625 17.390625 45.40625 27.296875 \r\nQ 45.40625 37.203125 41.296875 42.84375 \r\nQ 37.203125 48.484375 30.078125 48.484375 \r\nQ 22.953125 48.484375 18.875 42.84375 \r\nQ 14.796875 37.203125 14.796875 27.296875 \r\nz\r\n\" id=\"DejaVuSans-100\"/>\r\n       <path d=\"M 18.109375 8.203125 \r\nL 18.109375 -20.796875 \r\nL 9.078125 -20.796875 \r\nL 9.078125 54.6875 \r\nL 18.109375 54.6875 \r\nL 18.109375 46.390625 \r\nQ 20.953125 51.265625 25.265625 53.625 \r\nQ 29.59375 56 35.59375 56 \r\nQ 45.5625 56 51.78125 48.09375 \r\nQ 58.015625 40.1875 58.015625 27.296875 \r\nQ 58.015625 14.40625 51.78125 6.484375 \r\nQ 45.5625 -1.421875 35.59375 -1.421875 \r\nQ 29.59375 -1.421875 25.265625 0.953125 \r\nQ 20.953125 3.328125 18.109375 8.203125 \r\nz\r\nM 48.6875 27.296875 \r\nQ 48.6875 37.203125 44.609375 42.84375 \r\nQ 40.53125 48.484375 33.40625 48.484375 \r\nQ 26.265625 48.484375 22.1875 42.84375 \r\nQ 18.109375 37.203125 18.109375 27.296875 \r\nQ 18.109375 17.390625 22.1875 11.75 \r\nQ 26.265625 6.109375 33.40625 6.109375 \r\nQ 40.53125 6.109375 44.609375 11.75 \r\nQ 48.6875 17.390625 48.6875 27.296875 \r\nz\r\n\" id=\"DejaVuSans-112\"/>\r\n      </defs>\r\n      <g transform=\"translate(159.417969 239.238438)scale(0.1 -0.1)\">\r\n       <use xlink:href=\"#DejaVuSans-104\"/>\r\n       <use x=\"63.378906\" xlink:href=\"#DejaVuSans-100\"/>\r\n       <use x=\"126.855469\" xlink:href=\"#DejaVuSans-112\"/>\r\n       <use x=\"190.332031\" xlink:href=\"#DejaVuSans-95\"/>\r\n       <use x=\"240.332031\" xlink:href=\"#DejaVuSans-99\"/>\r\n       <use x=\"295.3125\" xlink:href=\"#DejaVuSans-111\"/>\r\n       <use x=\"356.494141\" xlink:href=\"#DejaVuSans-104\"/>\r\n       <use x=\"419.873047\" xlink:href=\"#DejaVuSans-101\"/>\r\n       <use x=\"481.396484\" xlink:href=\"#DejaVuSans-114\"/>\r\n       <use x=\"520.259766\" xlink:href=\"#DejaVuSans-101\"/>\r\n       <use x=\"581.783203\" xlink:href=\"#DejaVuSans-110\"/>\r\n       <use x=\"645.162109\" xlink:href=\"#DejaVuSans-99\"/>\r\n       <use x=\"700.142578\" xlink:href=\"#DejaVuSans-101\"/>\r\n      </g>\r\n     </g>\r\n    </g>\r\n    <g id=\"xtick_3\">\r\n     <g id=\"line2d_3\">\r\n      <g>\r\n       <use style=\"stroke:#000000;stroke-width:0.8;\" x=\"309.103125\" xlink:href=\"#m3b04ee00c5\" y=\"224.64\"/>\r\n      </g>\r\n     </g>\r\n     <g id=\"text_3\">\r\n      <!-- lda_coherence -->\r\n      <defs>\r\n       <path d=\"M 34.28125 27.484375 \r\nQ 23.390625 27.484375 19.1875 25 \r\nQ 14.984375 22.515625 14.984375 16.5 \r\nQ 14.984375 11.71875 18.140625 8.90625 \r\nQ 21.296875 6.109375 26.703125 6.109375 \r\nQ 34.1875 6.109375 38.703125 11.40625 \r\nQ 43.21875 16.703125 43.21875 25.484375 \r\nL 43.21875 27.484375 \r\nz\r\nM 52.203125 31.203125 \r\nL 52.203125 0 \r\nL 43.21875 0 \r\nL 43.21875 8.296875 \r\nQ 40.140625 3.328125 35.546875 0.953125 \r\nQ 30.953125 -1.421875 24.3125 -1.421875 \r\nQ 15.921875 -1.421875 10.953125 3.296875 \r\nQ 6 8.015625 6 15.921875 \r\nQ 6 25.140625 12.171875 29.828125 \r\nQ 18.359375 34.515625 30.609375 34.515625 \r\nL 43.21875 34.515625 \r\nL 43.21875 35.40625 \r\nQ 43.21875 41.609375 39.140625 45 \r\nQ 35.0625 48.390625 27.6875 48.390625 \r\nQ 23 48.390625 18.546875 47.265625 \r\nQ 14.109375 46.140625 10.015625 43.890625 \r\nL 10.015625 52.203125 \r\nQ 14.9375 54.109375 19.578125 55.046875 \r\nQ 24.21875 56 28.609375 56 \r\nQ 40.484375 56 46.34375 49.84375 \r\nQ 52.203125 43.703125 52.203125 31.203125 \r\nz\r\n\" id=\"DejaVuSans-97\"/>\r\n      </defs>\r\n      <g transform=\"translate(272.907813 239.238438)scale(0.1 -0.1)\">\r\n       <use xlink:href=\"#DejaVuSans-108\"/>\r\n       <use x=\"27.783203\" xlink:href=\"#DejaVuSans-100\"/>\r\n       <use x=\"91.259766\" xlink:href=\"#DejaVuSans-97\"/>\r\n       <use x=\"152.539062\" xlink:href=\"#DejaVuSans-95\"/>\r\n       <use x=\"202.539062\" xlink:href=\"#DejaVuSans-99\"/>\r\n       <use x=\"257.519531\" xlink:href=\"#DejaVuSans-111\"/>\r\n       <use x=\"318.701172\" xlink:href=\"#DejaVuSans-104\"/>\r\n       <use x=\"382.080078\" xlink:href=\"#DejaVuSans-101\"/>\r\n       <use x=\"443.603516\" xlink:href=\"#DejaVuSans-114\"/>\r\n       <use x=\"482.466797\" xlink:href=\"#DejaVuSans-101\"/>\r\n       <use x=\"543.990234\" xlink:href=\"#DejaVuSans-110\"/>\r\n       <use x=\"607.369141\" xlink:href=\"#DejaVuSans-99\"/>\r\n       <use x=\"662.349609\" xlink:href=\"#DejaVuSans-101\"/>\r\n      </g>\r\n     </g>\r\n    </g>\r\n   </g>\r\n   <g id=\"matplotlib.axis_2\">\r\n    <g id=\"ytick_1\">\r\n     <g id=\"line2d_4\">\r\n      <defs>\r\n       <path d=\"M 0 0 \r\nL -3.5 0 \r\n\" id=\"m2b203a5091\" style=\"stroke:#000000;stroke-width:0.8;\"/>\r\n      </defs>\r\n      <g>\r\n       <use style=\"stroke:#000000;stroke-width:0.8;\" x=\"30.103125\" xlink:href=\"#m2b203a5091\" y=\"224.64\"/>\r\n      </g>\r\n     </g>\r\n     <g id=\"text_4\">\r\n      <!-- 0.0 -->\r\n      <defs>\r\n       <path d=\"M 31.78125 66.40625 \r\nQ 24.171875 66.40625 20.328125 58.90625 \r\nQ 16.5 51.421875 16.5 36.375 \r\nQ 16.5 21.390625 20.328125 13.890625 \r\nQ 24.171875 6.390625 31.78125 6.390625 \r\nQ 39.453125 6.390625 43.28125 13.890625 \r\nQ 47.125 21.390625 47.125 36.375 \r\nQ 47.125 51.421875 43.28125 58.90625 \r\nQ 39.453125 66.40625 31.78125 66.40625 \r\nz\r\nM 31.78125 74.21875 \r\nQ 44.046875 74.21875 50.515625 64.515625 \r\nQ 56.984375 54.828125 56.984375 36.375 \r\nQ 56.984375 17.96875 50.515625 8.265625 \r\nQ 44.046875 -1.421875 31.78125 -1.421875 \r\nQ 19.53125 -1.421875 13.0625 8.265625 \r\nQ 6.59375 17.96875 6.59375 36.375 \r\nQ 6.59375 54.828125 13.0625 64.515625 \r\nQ 19.53125 74.21875 31.78125 74.21875 \r\nz\r\n\" id=\"DejaVuSans-48\"/>\r\n       <path d=\"M 10.6875 12.40625 \r\nL 21 12.40625 \r\nL 21 0 \r\nL 10.6875 0 \r\nz\r\n\" id=\"DejaVuSans-46\"/>\r\n      </defs>\r\n      <g transform=\"translate(7.2 228.439219)scale(0.1 -0.1)\">\r\n       <use xlink:href=\"#DejaVuSans-48\"/>\r\n       <use x=\"63.623047\" xlink:href=\"#DejaVuSans-46\"/>\r\n       <use x=\"95.410156\" xlink:href=\"#DejaVuSans-48\"/>\r\n      </g>\r\n     </g>\r\n    </g>\r\n    <g id=\"ytick_2\">\r\n     <g id=\"line2d_5\">\r\n      <g>\r\n       <use style=\"stroke:#000000;stroke-width:0.8;\" x=\"30.103125\" xlink:href=\"#m2b203a5091\" y=\"185.120268\"/>\r\n      </g>\r\n     </g>\r\n     <g id=\"text_5\">\r\n      <!-- 0.1 -->\r\n      <defs>\r\n       <path d=\"M 12.40625 8.296875 \r\nL 28.515625 8.296875 \r\nL 28.515625 63.921875 \r\nL 10.984375 60.40625 \r\nL 10.984375 69.390625 \r\nL 28.421875 72.90625 \r\nL 38.28125 72.90625 \r\nL 38.28125 8.296875 \r\nL 54.390625 8.296875 \r\nL 54.390625 0 \r\nL 12.40625 0 \r\nz\r\n\" id=\"DejaVuSans-49\"/>\r\n      </defs>\r\n      <g transform=\"translate(7.2 188.919487)scale(0.1 -0.1)\">\r\n       <use xlink:href=\"#DejaVuSans-48\"/>\r\n       <use x=\"63.623047\" xlink:href=\"#DejaVuSans-46\"/>\r\n       <use x=\"95.410156\" xlink:href=\"#DejaVuSans-49\"/>\r\n      </g>\r\n     </g>\r\n    </g>\r\n    <g id=\"ytick_3\">\r\n     <g id=\"line2d_6\">\r\n      <g>\r\n       <use style=\"stroke:#000000;stroke-width:0.8;\" x=\"30.103125\" xlink:href=\"#m2b203a5091\" y=\"145.600536\"/>\r\n      </g>\r\n     </g>\r\n     <g id=\"text_6\">\r\n      <!-- 0.2 -->\r\n      <defs>\r\n       <path d=\"M 19.1875 8.296875 \r\nL 53.609375 8.296875 \r\nL 53.609375 0 \r\nL 7.328125 0 \r\nL 7.328125 8.296875 \r\nQ 12.9375 14.109375 22.625 23.890625 \r\nQ 32.328125 33.6875 34.8125 36.53125 \r\nQ 39.546875 41.84375 41.421875 45.53125 \r\nQ 43.3125 49.21875 43.3125 52.78125 \r\nQ 43.3125 58.59375 39.234375 62.25 \r\nQ 35.15625 65.921875 28.609375 65.921875 \r\nQ 23.96875 65.921875 18.8125 64.3125 \r\nQ 13.671875 62.703125 7.8125 59.421875 \r\nL 7.8125 69.390625 \r\nQ 13.765625 71.78125 18.9375 73 \r\nQ 24.125 74.21875 28.421875 74.21875 \r\nQ 39.75 74.21875 46.484375 68.546875 \r\nQ 53.21875 62.890625 53.21875 53.421875 \r\nQ 53.21875 48.921875 51.53125 44.890625 \r\nQ 49.859375 40.875 45.40625 35.40625 \r\nQ 44.1875 33.984375 37.640625 27.21875 \r\nQ 31.109375 20.453125 19.1875 8.296875 \r\nz\r\n\" id=\"DejaVuSans-50\"/>\r\n      </defs>\r\n      <g transform=\"translate(7.2 149.399754)scale(0.1 -0.1)\">\r\n       <use xlink:href=\"#DejaVuSans-48\"/>\r\n       <use x=\"63.623047\" xlink:href=\"#DejaVuSans-46\"/>\r\n       <use x=\"95.410156\" xlink:href=\"#DejaVuSans-50\"/>\r\n      </g>\r\n     </g>\r\n    </g>\r\n    <g id=\"ytick_4\">\r\n     <g id=\"line2d_7\">\r\n      <g>\r\n       <use style=\"stroke:#000000;stroke-width:0.8;\" x=\"30.103125\" xlink:href=\"#m2b203a5091\" y=\"106.080803\"/>\r\n      </g>\r\n     </g>\r\n     <g id=\"text_7\">\r\n      <!-- 0.3 -->\r\n      <defs>\r\n       <path d=\"M 40.578125 39.3125 \r\nQ 47.65625 37.796875 51.625 33 \r\nQ 55.609375 28.21875 55.609375 21.1875 \r\nQ 55.609375 10.40625 48.1875 4.484375 \r\nQ 40.765625 -1.421875 27.09375 -1.421875 \r\nQ 22.515625 -1.421875 17.65625 -0.515625 \r\nQ 12.796875 0.390625 7.625 2.203125 \r\nL 7.625 11.71875 \r\nQ 11.71875 9.328125 16.59375 8.109375 \r\nQ 21.484375 6.890625 26.8125 6.890625 \r\nQ 36.078125 6.890625 40.9375 10.546875 \r\nQ 45.796875 14.203125 45.796875 21.1875 \r\nQ 45.796875 27.640625 41.28125 31.265625 \r\nQ 36.765625 34.90625 28.71875 34.90625 \r\nL 20.21875 34.90625 \r\nL 20.21875 43.015625 \r\nL 29.109375 43.015625 \r\nQ 36.375 43.015625 40.234375 45.921875 \r\nQ 44.09375 48.828125 44.09375 54.296875 \r\nQ 44.09375 59.90625 40.109375 62.90625 \r\nQ 36.140625 65.921875 28.71875 65.921875 \r\nQ 24.65625 65.921875 20.015625 65.03125 \r\nQ 15.375 64.15625 9.8125 62.3125 \r\nL 9.8125 71.09375 \r\nQ 15.4375 72.65625 20.34375 73.4375 \r\nQ 25.25 74.21875 29.59375 74.21875 \r\nQ 40.828125 74.21875 47.359375 69.109375 \r\nQ 53.90625 64.015625 53.90625 55.328125 \r\nQ 53.90625 49.265625 50.4375 45.09375 \r\nQ 46.96875 40.921875 40.578125 39.3125 \r\nz\r\n\" id=\"DejaVuSans-51\"/>\r\n      </defs>\r\n      <g transform=\"translate(7.2 109.880022)scale(0.1 -0.1)\">\r\n       <use xlink:href=\"#DejaVuSans-48\"/>\r\n       <use x=\"63.623047\" xlink:href=\"#DejaVuSans-46\"/>\r\n       <use x=\"95.410156\" xlink:href=\"#DejaVuSans-51\"/>\r\n      </g>\r\n     </g>\r\n    </g>\r\n    <g id=\"ytick_5\">\r\n     <g id=\"line2d_8\">\r\n      <g>\r\n       <use style=\"stroke:#000000;stroke-width:0.8;\" x=\"30.103125\" xlink:href=\"#m2b203a5091\" y=\"66.561071\"/>\r\n      </g>\r\n     </g>\r\n     <g id=\"text_8\">\r\n      <!-- 0.4 -->\r\n      <defs>\r\n       <path d=\"M 37.796875 64.3125 \r\nL 12.890625 25.390625 \r\nL 37.796875 25.390625 \r\nz\r\nM 35.203125 72.90625 \r\nL 47.609375 72.90625 \r\nL 47.609375 25.390625 \r\nL 58.015625 25.390625 \r\nL 58.015625 17.1875 \r\nL 47.609375 17.1875 \r\nL 47.609375 0 \r\nL 37.796875 0 \r\nL 37.796875 17.1875 \r\nL 4.890625 17.1875 \r\nL 4.890625 26.703125 \r\nz\r\n\" id=\"DejaVuSans-52\"/>\r\n      </defs>\r\n      <g transform=\"translate(7.2 70.36029)scale(0.1 -0.1)\">\r\n       <use xlink:href=\"#DejaVuSans-48\"/>\r\n       <use x=\"63.623047\" xlink:href=\"#DejaVuSans-46\"/>\r\n       <use x=\"95.410156\" xlink:href=\"#DejaVuSans-52\"/>\r\n      </g>\r\n     </g>\r\n    </g>\r\n    <g id=\"ytick_6\">\r\n     <g id=\"line2d_9\">\r\n      <g>\r\n       <use style=\"stroke:#000000;stroke-width:0.8;\" x=\"30.103125\" xlink:href=\"#m2b203a5091\" y=\"27.041339\"/>\r\n      </g>\r\n     </g>\r\n     <g id=\"text_9\">\r\n      <!-- 0.5 -->\r\n      <defs>\r\n       <path d=\"M 10.796875 72.90625 \r\nL 49.515625 72.90625 \r\nL 49.515625 64.59375 \r\nL 19.828125 64.59375 \r\nL 19.828125 46.734375 \r\nQ 21.96875 47.46875 24.109375 47.828125 \r\nQ 26.265625 48.1875 28.421875 48.1875 \r\nQ 40.625 48.1875 47.75 41.5 \r\nQ 54.890625 34.8125 54.890625 23.390625 \r\nQ 54.890625 11.625 47.5625 5.09375 \r\nQ 40.234375 -1.421875 26.90625 -1.421875 \r\nQ 22.3125 -1.421875 17.546875 -0.640625 \r\nQ 12.796875 0.140625 7.71875 1.703125 \r\nL 7.71875 11.625 \r\nQ 12.109375 9.234375 16.796875 8.0625 \r\nQ 21.484375 6.890625 26.703125 6.890625 \r\nQ 35.15625 6.890625 40.078125 11.328125 \r\nQ 45.015625 15.765625 45.015625 23.390625 \r\nQ 45.015625 31 40.078125 35.4375 \r\nQ 35.15625 39.890625 26.703125 39.890625 \r\nQ 22.75 39.890625 18.8125 39.015625 \r\nQ 14.890625 38.140625 10.796875 36.28125 \r\nz\r\n\" id=\"DejaVuSans-53\"/>\r\n      </defs>\r\n      <g transform=\"translate(7.2 30.840558)scale(0.1 -0.1)\">\r\n       <use xlink:href=\"#DejaVuSans-48\"/>\r\n       <use x=\"63.623047\" xlink:href=\"#DejaVuSans-46\"/>\r\n       <use x=\"95.410156\" xlink:href=\"#DejaVuSans-53\"/>\r\n      </g>\r\n     </g>\r\n    </g>\r\n   </g>\r\n   <g id=\"line2d_10\">\r\n    <path clip-path=\"url(#pcc9fd0b103)\" d=\"M 0 0 \r\n\" style=\"fill:none;stroke:#424242;stroke-linecap:square;stroke-width:2.7;\"/>\r\n   </g>\r\n   <g id=\"line2d_11\">\r\n    <path clip-path=\"url(#pcc9fd0b103)\" d=\"M 0 0 \r\n\" style=\"fill:none;stroke:#424242;stroke-linecap:square;stroke-width:2.7;\"/>\r\n   </g>\r\n   <g id=\"line2d_12\">\r\n    <path clip-path=\"url(#pcc9fd0b103)\" d=\"M 0 0 \r\n\" style=\"fill:none;stroke:#424242;stroke-linecap:square;stroke-width:2.7;\"/>\r\n   </g>\r\n   <g id=\"patch_6\">\r\n    <path d=\"M 30.103125 224.64 \r\nL 30.103125 7.2 \r\n\" style=\"fill:none;stroke:#000000;stroke-linecap:square;stroke-linejoin:miter;stroke-width:0.8;\"/>\r\n   </g>\r\n   <g id=\"patch_7\">\r\n    <path d=\"M 364.903125 224.64 \r\nL 364.903125 7.2 \r\n\" style=\"fill:none;stroke:#000000;stroke-linecap:square;stroke-linejoin:miter;stroke-width:0.8;\"/>\r\n   </g>\r\n   <g id=\"patch_8\">\r\n    <path d=\"M 30.103125 224.64 \r\nL 364.903125 224.64 \r\n\" style=\"fill:none;stroke:#000000;stroke-linecap:square;stroke-linejoin:miter;stroke-width:0.8;\"/>\r\n   </g>\r\n   <g id=\"patch_9\">\r\n    <path d=\"M 30.103125 7.2 \r\nL 364.903125 7.2 \r\n\" style=\"fill:none;stroke:#000000;stroke-linecap:square;stroke-linejoin:miter;stroke-width:0.8;\"/>\r\n   </g>\r\n  </g>\r\n </g>\r\n <defs>\r\n  <clipPath id=\"pcc9fd0b103\">\r\n   <rect height=\"217.44\" width=\"334.8\" x=\"30.103125\" y=\"7.2\"/>\r\n  </clipPath>\r\n </defs>\r\n</svg>\r\n",
      "image/png": "[encoded data removed]"
     },
     "metadata": {
      "needs_background": "light"
     }
    }
   ],
   "source": [
    "import seaborn as sns\n",
    "\n",
    "coherences = [lsi_coherence, hdp_coherence, lda_coherence]\n",
    "n = len(coherences)\n",
    "x = ['lsi_coherence','hdp_coherence', 'lda_coherence']\n",
    "sns.barplot(x, coherences)"
   ]
  },
  {
   "cell_type": "code",
   "execution_count": 115,
   "metadata": {},
   "outputs": [],
   "source": [
    "def format_topics_sentences(ldamodel=0, corpus=corpus, texts=0):\n",
    "    # Init output\n",
    "    sent_topics_df = pd.DataFrame()-n\n",
    "\n",
    "    # Get main topic in each document\n",
    "    for i, row in enumerate(ldamodel[corpus]):\n",
    "        row = sorted(row, key=lambda x: (x[1]), reverse=True)\n",
    "        # Get the Dominant topic, Perc Contribution and Keywords for each document\n",
    "        for j, (topic_num, prop_topic) in enumerate(row):\n",
    "            if j == 0:  # => dominant topic\n",
    "                wp = ldamodel.show_topic(topic_num)\n",
    "                topic_keywords = \", \".join([word for word, prop in wp])\n",
    "                sent_topics_df = sent_topics_df.append(pd.Series([int(topic_num), round(prop_topic,4), topic_keywords]), ignore_index=True)\n",
    "            else:\n",
    "                break\n",
    "    sent_topics_df.columns = ['Dominant_Topic', 'Perc_Contribution', 'Topic_Keywords']\n",
    "\n",
    "    # Add original text to the end of the output\n",
    "    contents = pd.Series(texts)\n",
    "    sent_topics_df = pd.concat([sent_topics_df, contents], axis=1)\n",
    "    return(sent_topics_df)\n",
    "\n",
    "\n",
    "result = format_topics_sentences(ldamodel, corpus=corpus, texts=docsCleaned)\n"
   ]
  },
  {
   "cell_type": "code",
   "execution_count": 116,
   "metadata": {},
   "outputs": [
    {
     "output_type": "execute_result",
     "data": {
      "text/plain": "   Dominant_Topic  Perc_Contribution  \\\n0             3.0             0.5963   \n1             9.0             0.9989   \n2             0.0             0.6543   \n3             2.0             0.8558   \n4             4.0             0.5219   \n5             9.0             0.9988   \n6             9.0             0.9988   \n7             7.0             0.5552   \n\n                                      Topic_Keywords  \\\n0  proyecto, debate, ministro, tardes, momento, p...   \n1  proyecto, debate, parte, ministro, tardes, mom...   \n2  proyecto, parte, debate, ministro, nivel, prov...   \n3  proyecto, debate, parte, momento, pueblo, nive...   \n4  proyecto, debate, parte, ministro, nivel, tard...   \n5  proyecto, debate, parte, ministro, tardes, mom...   \n6  proyecto, debate, parte, ministro, tardes, mom...   \n7  proyecto, debate, parte, ministro, tardes, tip...   \n\n                                                   0  \n0  [legislatura, ordinarias, jueves, enero, lectu...  \n1  [lunes, enero, jueves, octubre, consideracion,...  \n2  [martes, enero, lunes, enero, incidencias, deb...  \n3  [enero, martes, enero, incidencias, debate, pr...  \n4  [lunes, enero, enero, incidencias, asamblea, m...  \n5  [enero, lunes, martes, enero, incidencias, deb...  \n6  [jueves, enero, lunes, martes, miercoles, ener...  \n7  [lunes, enero, jueves, enero, incidencias, asa...  ",
      "text/html": "<div>\n<style scoped>\n    .dataframe tbody tr th:only-of-type {\n        vertical-align: middle;\n    }\n\n    .dataframe tbody tr th {\n        vertical-align: top;\n    }\n\n    .dataframe thead th {\n        text-align: right;\n    }\n</style>\n<table border=\"1\" class=\"dataframe\">\n  <thead>\n    <tr style=\"text-align: right;\">\n      <th></th>\n      <th>Dominant_Topic</th>\n      <th>Perc_Contribution</th>\n      <th>Topic_Keywords</th>\n      <th>0</th>\n    </tr>\n  </thead>\n  <tbody>\n    <tr>\n      <th>0</th>\n      <td>3.0</td>\n      <td>0.5963</td>\n      <td>proyecto, debate, ministro, tardes, momento, p...</td>\n      <td>[legislatura, ordinarias, jueves, enero, lectu...</td>\n    </tr>\n    <tr>\n      <th>1</th>\n      <td>9.0</td>\n      <td>0.9989</td>\n      <td>proyecto, debate, parte, ministro, tardes, mom...</td>\n      <td>[lunes, enero, jueves, octubre, consideracion,...</td>\n    </tr>\n    <tr>\n      <th>2</th>\n      <td>0.0</td>\n      <td>0.6543</td>\n      <td>proyecto, parte, debate, ministro, nivel, prov...</td>\n      <td>[martes, enero, lunes, enero, incidencias, deb...</td>\n    </tr>\n    <tr>\n      <th>3</th>\n      <td>2.0</td>\n      <td>0.8558</td>\n      <td>proyecto, debate, parte, momento, pueblo, nive...</td>\n      <td>[enero, martes, enero, incidencias, debate, pr...</td>\n    </tr>\n    <tr>\n      <th>4</th>\n      <td>4.0</td>\n      <td>0.5219</td>\n      <td>proyecto, debate, parte, ministro, nivel, tard...</td>\n      <td>[lunes, enero, enero, incidencias, asamblea, m...</td>\n    </tr>\n    <tr>\n      <th>5</th>\n      <td>9.0</td>\n      <td>0.9988</td>\n      <td>proyecto, debate, parte, ministro, tardes, mom...</td>\n      <td>[enero, lunes, martes, enero, incidencias, deb...</td>\n    </tr>\n    <tr>\n      <th>6</th>\n      <td>9.0</td>\n      <td>0.9988</td>\n      <td>proyecto, debate, parte, ministro, tardes, mom...</td>\n      <td>[jueves, enero, lunes, martes, miercoles, ener...</td>\n    </tr>\n    <tr>\n      <th>7</th>\n      <td>7.0</td>\n      <td>0.5552</td>\n      <td>proyecto, debate, parte, ministro, tardes, tip...</td>\n      <td>[lunes, enero, jueves, enero, incidencias, asa...</td>\n    </tr>\n  </tbody>\n</table>\n</div>"
     },
     "metadata": {},
     "execution_count": 116
    }
   ],
   "source": [
    "result"
   ]
  },
  {
   "cell_type": "code",
   "execution_count": null,
   "metadata": {},
   "outputs": [],
   "source": []
  }
 ],
 "metadata": {
  "language_info": {
   "codemirror_mode": {
    "name": "ipython",
    "version": 3
   },
   "file_extension": ".py",
   "mimetype": "text/x-python",
   "name": "python",
   "nbconvert_exporter": "python",
   "pygments_lexer": "ipython3",
   "version": "3.8.1-final"
  },
  "orig_nbformat": 2,
  "kernelspec": {
   "name": "python38164bit84de7a947ec44779bc9b8c377a1e5fba",
   "display_name": "Python 3.8.1 64-bit"
  }
 },
 "nbformat": 4,
 "nbformat_minor": 2
}